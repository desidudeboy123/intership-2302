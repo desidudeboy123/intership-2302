{
 "cells": [
  {
   "cell_type": "markdown",
   "id": "f1e4f071",
   "metadata": {},
   "source": [
    "# ****QUES1.... Write a python program which searches all the product under a particular product from www.amazon.in. The \n",
    "product to be searched will be taken as input from user. For e.g. If user input is ‘guitar’. Then search for \n",
    "guitars. "
   ]
  },
  {
   "cell_type": "code",
   "execution_count": 6,
   "id": "ad3ca59e",
   "metadata": {
    "scrolled": false
   },
   "outputs": [
    {
     "name": "stdout",
     "output_type": "stream",
     "text": [
      "Requirement already satisfied: selenium in c:\\users\\admin\\anaconda3\\lib\\site-packages (4.8.3)\n",
      "Requirement already satisfied: trio-websocket~=0.9 in c:\\users\\admin\\anaconda3\\lib\\site-packages (from selenium) (0.10.2)\n",
      "Requirement already satisfied: urllib3[socks]~=1.26 in c:\\users\\admin\\anaconda3\\lib\\site-packages (from selenium) (1.26.9)\n",
      "Requirement already satisfied: trio~=0.17 in c:\\users\\admin\\anaconda3\\lib\\site-packages (from selenium) (0.22.0)\n",
      "Requirement already satisfied: certifi>=2021.10.8 in c:\\users\\admin\\anaconda3\\lib\\site-packages (from selenium) (2021.10.8)\n",
      "Requirement already satisfied: sniffio in c:\\users\\admin\\anaconda3\\lib\\site-packages (from trio~=0.17->selenium) (1.2.0)\n",
      "Requirement already satisfied: async-generator>=1.9 in c:\\users\\admin\\anaconda3\\lib\\site-packages (from trio~=0.17->selenium) (1.10)\n",
      "Requirement already satisfied: exceptiongroup>=1.0.0rc9 in c:\\users\\admin\\anaconda3\\lib\\site-packages (from trio~=0.17->selenium) (1.1.1)\n",
      "Requirement already satisfied: idna in c:\\users\\admin\\anaconda3\\lib\\site-packages (from trio~=0.17->selenium) (3.3)\n",
      "Requirement already satisfied: attrs>=19.2.0 in c:\\users\\admin\\anaconda3\\lib\\site-packages (from trio~=0.17->selenium) (21.4.0)\n",
      "Requirement already satisfied: sortedcontainers in c:\\users\\admin\\anaconda3\\lib\\site-packages (from trio~=0.17->selenium) (2.4.0)\n",
      "Requirement already satisfied: cffi>=1.14 in c:\\users\\admin\\anaconda3\\lib\\site-packages (from trio~=0.17->selenium) (1.15.0)\n",
      "Requirement already satisfied: outcome in c:\\users\\admin\\anaconda3\\lib\\site-packages (from trio~=0.17->selenium) (1.2.0)\n",
      "Requirement already satisfied: pycparser in c:\\users\\admin\\anaconda3\\lib\\site-packages (from cffi>=1.14->trio~=0.17->selenium) (2.21)\n",
      "Requirement already satisfied: wsproto>=0.14 in c:\\users\\admin\\anaconda3\\lib\\site-packages (from trio-websocket~=0.9->selenium) (1.2.0)\n",
      "Requirement already satisfied: PySocks!=1.5.7,<2.0,>=1.5.6 in c:\\users\\admin\\anaconda3\\lib\\site-packages (from urllib3[socks]~=1.26->selenium) (1.7.1)\n",
      "Requirement already satisfied: h11<1,>=0.9.0 in c:\\users\\admin\\anaconda3\\lib\\site-packages (from wsproto>=0.14->trio-websocket~=0.9->selenium) (0.14.0)\n"
     ]
    }
   ],
   "source": [
    "!pip install selenium"
   ]
  },
  {
   "cell_type": "code",
   "execution_count": 43,
   "id": "ff2ffd01",
   "metadata": {},
   "outputs": [],
   "source": [
    "import selenium\n",
    "import pandas as pd\n",
    "from selenium import webdriver\n",
    "import warnings\n",
    "warnings.filterwarnings('ignore')\n",
    "from selenium.common.exceptions import StaleElementReferenceException, NoSuchElementException\n",
    "from selenium.webdriver.common.by import By\n",
    "import time"
   ]
  },
  {
   "cell_type": "code",
   "execution_count": 44,
   "id": "ba7dd4e0",
   "metadata": {},
   "outputs": [],
   "source": [
    "driver= webdriver.Chrome(r\"C:\\Users\\Admin\\Downloads\\chromedriver.exe\")"
   ]
  },
  {
   "cell_type": "code",
   "execution_count": 45,
   "id": "7e84ad47",
   "metadata": {},
   "outputs": [],
   "source": [
    "driver.get(\"https://www.amazon.com/\")\n"
   ]
  },
  {
   "cell_type": "code",
   "execution_count": 46,
   "id": "73401cdb",
   "metadata": {
    "scrolled": true
   },
   "outputs": [],
   "source": [
    "search_bar= driver.find_element(By.XPATH,\"/html/body/div[1]/header/div/div[1]/div[2]/div/form/div[2]/div[1]/input\")\n",
    "search_bar.send_keys('guitars')"
   ]
  },
  {
   "cell_type": "code",
   "execution_count": 47,
   "id": "c2127ccb",
   "metadata": {
    "scrolled": true
   },
   "outputs": [],
   "source": [
    "btn=driver.find_element(By.XPATH,\"//input[@id='nav-search-submit-button']\")\n",
    "btn.click()\n",
    "time.sleep(2)"
   ]
  },
  {
   "cell_type": "markdown",
   "id": "d08e732b",
   "metadata": {},
   "source": [
    "# ****QUES2...In the above question, now scrape the following details of each product listed in first 3 pages of your search \n",
    "results and save it in a data frame and csv. In case if any product has less than 3 pages in search results then \n",
    "scrape all the products available under that product name. Details to be scraped are: \"Brand \n",
    "Name\", \"Name of the Product\", \"Price\", \"Return/Exchange\", \"Expected Delivery\", \"Availability\" and \n",
    "“Product URL”. In case, if any of the details are missing for any of the product then replace it by “-“."
   ]
  },
  {
   "cell_type": "code",
   "execution_count": 48,
   "id": "b2c11b20",
   "metadata": {},
   "outputs": [],
   "source": [
    "product_p=[]\n",
    "rating_r=[]\n",
    "price_P=[]\n",
    "\n"
   ]
  },
  {
   "cell_type": "code",
   "execution_count": 49,
   "id": "b78771da",
   "metadata": {},
   "outputs": [],
   "source": [
    "product_p=[]\n",
    "start=0\n",
    "end=3\n",
    "for page in range(start,end):\n",
    "    p_tags=driver.find_elements(By.XPATH,'//div[@class=\"a-section a-spacing-none a-spacing-top-small s-title-instructions-style\"]')\n",
    "for i in p_tags[0:25]:\n",
    "    p=i.text\n",
    "    product_p.append(p)"
   ]
  },
  {
   "cell_type": "code",
   "execution_count": 50,
   "id": "4eb5a356",
   "metadata": {},
   "outputs": [],
   "source": [
    "r_tags=driver.find_elements(By.XPATH,'//span[@class=\"a-size-base s-underline-text\"]')\n",
    "for i in r_tags[0:25]:\n",
    "    r=i.text\n",
    "    rating_r.append(r) "
   ]
  },
  {
   "cell_type": "code",
   "execution_count": 51,
   "id": "fe673231",
   "metadata": {},
   "outputs": [],
   "source": [
    "P_tags=driver.find_elements(By.XPATH,'//span[@class=\"a-price-whole\"]')\n",
    "for i in P_tags[0:25]:\n",
    "    P=i.text\n",
    "    price_P.append(P)\n",
    "    \n",
    "    \n",
    "        \n",
    "        "
   ]
  },
  {
   "cell_type": "code",
   "execution_count": 52,
   "id": "f613af4e",
   "metadata": {
    "scrolled": true
   },
   "outputs": [
    {
     "name": "stdout",
     "output_type": "stream",
     "text": [
      "25 25 25\n"
     ]
    }
   ],
   "source": [
    "print(len(product_p),len(rating_r),len(price_P))"
   ]
  },
  {
   "cell_type": "code",
   "execution_count": 53,
   "id": "0b5fcc72",
   "metadata": {},
   "outputs": [
    {
     "data": {
      "text/html": [
       "<div>\n",
       "<style scoped>\n",
       "    .dataframe tbody tr th:only-of-type {\n",
       "        vertical-align: middle;\n",
       "    }\n",
       "\n",
       "    .dataframe tbody tr th {\n",
       "        vertical-align: top;\n",
       "    }\n",
       "\n",
       "    .dataframe thead th {\n",
       "        text-align: right;\n",
       "    }\n",
       "</style>\n",
       "<table border=\"1\" class=\"dataframe\">\n",
       "  <thead>\n",
       "    <tr style=\"text-align: right;\">\n",
       "      <th></th>\n",
       "      <th>Product</th>\n",
       "      <th>Rating</th>\n",
       "      <th>Price</th>\n",
       "    </tr>\n",
       "  </thead>\n",
       "  <tbody>\n",
       "    <tr>\n",
       "      <th>0</th>\n",
       "      <td>Sponsored\\nAITONE Wireless Guitar System 2.4Gh...</td>\n",
       "      <td>23</td>\n",
       "      <td>49</td>\n",
       "    </tr>\n",
       "    <tr>\n",
       "      <th>1</th>\n",
       "      <td>Pyle Classical Acoustic Guitar Kit, 3/4 Junior...</td>\n",
       "      <td>9,384</td>\n",
       "      <td>49</td>\n",
       "    </tr>\n",
       "    <tr>\n",
       "      <th>2</th>\n",
       "      <td>Enya Nova Go Carbon Fiber Acoustic Guitar 1/2 ...</td>\n",
       "      <td>642</td>\n",
       "      <td>189</td>\n",
       "    </tr>\n",
       "    <tr>\n",
       "      <th>3</th>\n",
       "      <td>Joymusic 38 inch blueburst beginner acoustic g...</td>\n",
       "      <td>1,881</td>\n",
       "      <td>43</td>\n",
       "    </tr>\n",
       "    <tr>\n",
       "      <th>4</th>\n",
       "      <td>YMC 38\" Blue Beginner Acoustic Guitar Starter ...</td>\n",
       "      <td>5,078</td>\n",
       "      <td>54</td>\n",
       "    </tr>\n",
       "    <tr>\n",
       "      <th>5</th>\n",
       "      <td>Ibanez 6 String Solid-Body Electric Guitar, Ri...</td>\n",
       "      <td>1,489</td>\n",
       "      <td>58</td>\n",
       "    </tr>\n",
       "    <tr>\n",
       "      <th>6</th>\n",
       "      <td>38\" Wood Guitar With Case and Accessories for ...</td>\n",
       "      <td>4,597</td>\n",
       "      <td>40</td>\n",
       "    </tr>\n",
       "    <tr>\n",
       "      <th>7</th>\n",
       "      <td>Music Alley MA34-N Classical Junior Guitar</td>\n",
       "      <td>5,340</td>\n",
       "      <td>49</td>\n",
       "    </tr>\n",
       "    <tr>\n",
       "      <th>8</th>\n",
       "      <td>30\" Wood Classical Guitar with Case and Access...</td>\n",
       "      <td>9,518</td>\n",
       "      <td>49</td>\n",
       "    </tr>\n",
       "    <tr>\n",
       "      <th>9</th>\n",
       "      <td>Squier Affinity Series Starcaster Electric Gui...</td>\n",
       "      <td>224</td>\n",
       "      <td>76</td>\n",
       "    </tr>\n",
       "    <tr>\n",
       "      <th>10</th>\n",
       "      <td>Fender Eric Clapton Stratocaster Electric Guit...</td>\n",
       "      <td>35</td>\n",
       "      <td>1,399</td>\n",
       "    </tr>\n",
       "    <tr>\n",
       "      <th>11</th>\n",
       "      <td>30\" Wood Classical Guitar with Case and Access...</td>\n",
       "      <td>9,518</td>\n",
       "      <td>279</td>\n",
       "    </tr>\n",
       "    <tr>\n",
       "      <th>12</th>\n",
       "      <td>ESP LTD KH-602 Signature Series Kirk Hammett E...</td>\n",
       "      <td>57</td>\n",
       "      <td>199</td>\n",
       "    </tr>\n",
       "    <tr>\n",
       "      <th>13</th>\n",
       "      <td>BESYOU Beginner Guitar 38\"All Wood Acoustic Gu...</td>\n",
       "      <td>3</td>\n",
       "      <td>89</td>\n",
       "    </tr>\n",
       "    <tr>\n",
       "      <th>14</th>\n",
       "      <td>Takamine Pro Series 6 NEX Cutaway Acoustic-Ele...</td>\n",
       "      <td>1</td>\n",
       "      <td>59</td>\n",
       "    </tr>\n",
       "    <tr>\n",
       "      <th>15</th>\n",
       "      <td>Takamine TSP-158C12 12-string Acoustic-electri...</td>\n",
       "      <td>47</td>\n",
       "      <td>12</td>\n",
       "    </tr>\n",
       "    <tr>\n",
       "      <th>16</th>\n",
       "      <td>Journey Instruments Carbon Fiber Travel Guitar...</td>\n",
       "      <td>202</td>\n",
       "      <td>11</td>\n",
       "    </tr>\n",
       "    <tr>\n",
       "      <th>17</th>\n",
       "      <td>Gretsch G9520E Gin Rickey Acoustic Electric Gu...</td>\n",
       "      <td>40</td>\n",
       "      <td>15</td>\n",
       "    </tr>\n",
       "    <tr>\n",
       "      <th>18</th>\n",
       "      <td>Guild Guitars Starfire I Jet 90 Semi-Hollow Bo...</td>\n",
       "      <td>41</td>\n",
       "      <td>45</td>\n",
       "    </tr>\n",
       "    <tr>\n",
       "      <th>19</th>\n",
       "      <td>Fender Jimi Hendrix Stratocaster Electric Guit...</td>\n",
       "      <td>50</td>\n",
       "      <td>89</td>\n",
       "    </tr>\n",
       "    <tr>\n",
       "      <th>20</th>\n",
       "      <td>EVH Striped Series Frankenstein Relic - Red/Bl...</td>\n",
       "      <td>71</td>\n",
       "      <td>449</td>\n",
       "    </tr>\n",
       "    <tr>\n",
       "      <th>21</th>\n",
       "      <td>Fender Player Telecaster HH Electric Guitar, T...</td>\n",
       "      <td>171</td>\n",
       "      <td>34</td>\n",
       "    </tr>\n",
       "    <tr>\n",
       "      <th>22</th>\n",
       "      <td>Fender CC-60S Concert Acoustic Guitar, 3-Color...</td>\n",
       "      <td>270</td>\n",
       "      <td>31</td>\n",
       "    </tr>\n",
       "    <tr>\n",
       "      <th>23</th>\n",
       "      <td>Fret Zealot LED Guitar Learning Accessory - EA...</td>\n",
       "      <td>8</td>\n",
       "      <td>149</td>\n",
       "    </tr>\n",
       "    <tr>\n",
       "      <th>24</th>\n",
       "      <td>Fender Player Plus Nashville Telecaster Electr...</td>\n",
       "      <td>662</td>\n",
       "      <td>699</td>\n",
       "    </tr>\n",
       "  </tbody>\n",
       "</table>\n",
       "</div>"
      ],
      "text/plain": [
       "                                              Product Rating  Price\n",
       "0   Sponsored\\nAITONE Wireless Guitar System 2.4Gh...     23     49\n",
       "1   Pyle Classical Acoustic Guitar Kit, 3/4 Junior...  9,384     49\n",
       "2   Enya Nova Go Carbon Fiber Acoustic Guitar 1/2 ...    642    189\n",
       "3   Joymusic 38 inch blueburst beginner acoustic g...  1,881     43\n",
       "4   YMC 38\" Blue Beginner Acoustic Guitar Starter ...  5,078     54\n",
       "5   Ibanez 6 String Solid-Body Electric Guitar, Ri...  1,489     58\n",
       "6   38\" Wood Guitar With Case and Accessories for ...  4,597     40\n",
       "7          Music Alley MA34-N Classical Junior Guitar  5,340     49\n",
       "8   30\" Wood Classical Guitar with Case and Access...  9,518     49\n",
       "9   Squier Affinity Series Starcaster Electric Gui...    224     76\n",
       "10  Fender Eric Clapton Stratocaster Electric Guit...     35  1,399\n",
       "11  30\" Wood Classical Guitar with Case and Access...  9,518    279\n",
       "12  ESP LTD KH-602 Signature Series Kirk Hammett E...     57    199\n",
       "13  BESYOU Beginner Guitar 38\"All Wood Acoustic Gu...      3     89\n",
       "14  Takamine Pro Series 6 NEX Cutaway Acoustic-Ele...      1     59\n",
       "15  Takamine TSP-158C12 12-string Acoustic-electri...     47     12\n",
       "16  Journey Instruments Carbon Fiber Travel Guitar...    202     11\n",
       "17  Gretsch G9520E Gin Rickey Acoustic Electric Gu...     40     15\n",
       "18  Guild Guitars Starfire I Jet 90 Semi-Hollow Bo...     41     45\n",
       "19  Fender Jimi Hendrix Stratocaster Electric Guit...     50     89\n",
       "20  EVH Striped Series Frankenstein Relic - Red/Bl...     71    449\n",
       "21  Fender Player Telecaster HH Electric Guitar, T...    171     34\n",
       "22  Fender CC-60S Concert Acoustic Guitar, 3-Color...    270     31\n",
       "23  Fret Zealot LED Guitar Learning Accessory - EA...      8    149\n",
       "24  Fender Player Plus Nashville Telecaster Electr...    662    699"
      ]
     },
     "execution_count": 53,
     "metadata": {},
     "output_type": "execute_result"
    }
   ],
   "source": [
    "df=pd.DataFrame()\n",
    "df['Product']=product_p\n",
    "df['Rating']=rating_r\n",
    "df['Price']= price_P\n",
    "df"
   ]
  },
  {
   "cell_type": "markdown",
   "id": "f06ec1f4",
   "metadata": {},
   "source": [
    "# ****QUES3...Write a python program to search for a smartphone(e.g.: Oneplus Nord, pixel 4A, etc.) on www.flipkart.com\n",
    "and scrape following details for all the search results displayed on 1st page. Details to be scraped: “Brand \n",
    "Name”, “Smartphone name”, “Colour”, “RAM”, “Storage(ROM)”, “Primary Camera”, \n",
    "“Secondary Camera”, “Display Size”, “Battery Capacity”, “Price”, “Product URL”. Incase if any of the \n",
    "details is missing then replace it by “- “. Save your results in a dataframe and CSV"
   ]
  },
  {
   "cell_type": "code",
   "execution_count": 102,
   "id": "e6d98870",
   "metadata": {},
   "outputs": [],
   "source": [
    "import selenium\n",
    "import pandas as pd\n",
    "from selenium import webdriver\n",
    "import warnings\n",
    "warnings.filterwarnings('ignore')\n",
    "from selenium.common.exceptions import StaleElementReferenceException, NoSuchElementException\n",
    "from selenium.webdriver.common.by import By\n",
    "import time"
   ]
  },
  {
   "cell_type": "code",
   "execution_count": 103,
   "id": "d29abd32",
   "metadata": {},
   "outputs": [],
   "source": [
    "driver= webdriver.Chrome(r\"C:\\Users\\Admin\\Downloads\\chromedriver.exe\")"
   ]
  },
  {
   "cell_type": "code",
   "execution_count": 104,
   "id": "06c6cab6",
   "metadata": {},
   "outputs": [],
   "source": [
    "driver.get(\"https://www.FLIPKART.com/\")\n"
   ]
  },
  {
   "cell_type": "code",
   "execution_count": 105,
   "id": "87dbd4f0",
   "metadata": {},
   "outputs": [],
   "source": [
    "A_name= driver.find_element(By.CLASS_NAME,\"_3704LK\")\n",
    "A_name.send_keys('IPHONE-11')"
   ]
  },
  {
   "cell_type": "code",
   "execution_count": 106,
   "id": "33754a55",
   "metadata": {},
   "outputs": [
    {
     "data": {
      "text/plain": [
       "[<selenium.webdriver.remote.webelement.WebElement (session=\"fc7cb3d911e3958fda07076c8574c6eb\", element=\"459879a2-4739-40e2-be8c-d3900e0981b5\")>]"
      ]
     },
     "execution_count": 106,
     "metadata": {},
     "output_type": "execute_result"
    }
   ],
   "source": [
    "search_btn=driver.find_elements(By.XPATH,'//button[@class=\"L0Z3Pu\"]')\n",
    "search_btn"
   ]
  },
  {
   "cell_type": "code",
   "execution_count": 107,
   "id": "a05258b8",
   "metadata": {
    "scrolled": true
   },
   "outputs": [],
   "source": [
    "search_btn=driver.find_element(By.CLASS_NAME,\"L0Z3Pu\")\n",
    "search_btn.click()\n",
    "time.sleep(3)"
   ]
  },
  {
   "cell_type": "code",
   "execution_count": 108,
   "id": "a49f0b16",
   "metadata": {},
   "outputs": [],
   "source": [
    "product_p=[]\n",
    "rating_r=[]\n",
    "review_R=[]\n",
    "rom_M=[]\n",
    "display_d=[]\n",
    "camera_c=[]\n"
   ]
  },
  {
   "cell_type": "code",
   "execution_count": 109,
   "id": "195835e1",
   "metadata": {},
   "outputs": [],
   "source": [
    "p_tags=driver.find_elements(By.XPATH,'//div[@class=\"_4rR01T\"]')\n",
    "for i in p_tags[0:20]:\n",
    "    p=i.text\n",
    "    product_p.append(p)\n",
    "    "
   ]
  },
  {
   "cell_type": "code",
   "execution_count": 110,
   "id": "d65fa419",
   "metadata": {},
   "outputs": [],
   "source": [
    "r_tags=driver.find_elements(By.XPATH,'//div[@class=\"_3LWZlK\"]')\n",
    "for i in r_tags[0:20]:\n",
    "    r=i.text\n",
    "    rating_r.append(r)"
   ]
  },
  {
   "cell_type": "code",
   "execution_count": 111,
   "id": "4aa1fd89",
   "metadata": {},
   "outputs": [],
   "source": [
    "R_tags=driver.find_elements(By.XPATH,'//span[@class=\"_2_R_DZ\"]')\n",
    "for i in R_tags[0:20]:\n",
    "    R=i.text\n",
    "    review_R.append(R)"
   ]
  },
  {
   "cell_type": "code",
   "execution_count": 112,
   "id": "7195a0bf",
   "metadata": {},
   "outputs": [],
   "source": [
    "M_tags=driver.find_elements(By.XPATH,'//li[@class=\"rgWa7D\"]')\n",
    "for i in M_tags[0:20]:\n",
    "    M=i.text\n",
    "    rom_M.append(M)"
   ]
  },
  {
   "cell_type": "code",
   "execution_count": 113,
   "id": "574ce2f1",
   "metadata": {},
   "outputs": [],
   "source": [
    "d_tags=driver.find_elements(By.XPATH,'//li[@class=\"rgWa7D\"]')\n",
    "for i in d_tags[0:20]:\n",
    "    d=i.text\n",
    "    display_d.append(d)"
   ]
  },
  {
   "cell_type": "code",
   "execution_count": 114,
   "id": "ceea3f19",
   "metadata": {},
   "outputs": [
    {
     "data": {
      "text/html": [
       "<div>\n",
       "<style scoped>\n",
       "    .dataframe tbody tr th:only-of-type {\n",
       "        vertical-align: middle;\n",
       "    }\n",
       "\n",
       "    .dataframe tbody tr th {\n",
       "        vertical-align: top;\n",
       "    }\n",
       "\n",
       "    .dataframe thead th {\n",
       "        text-align: right;\n",
       "    }\n",
       "</style>\n",
       "<table border=\"1\" class=\"dataframe\">\n",
       "  <thead>\n",
       "    <tr style=\"text-align: right;\">\n",
       "      <th></th>\n",
       "      <th>Product</th>\n",
       "      <th>Rating</th>\n",
       "      <th>Review</th>\n",
       "      <th>ROM</th>\n",
       "      <th>Display</th>\n",
       "    </tr>\n",
       "  </thead>\n",
       "  <tbody>\n",
       "    <tr>\n",
       "      <th>0</th>\n",
       "      <td>APPLE iPhone 11 (White, 128 GB)</td>\n",
       "      <td>4.6</td>\n",
       "      <td>1,90,540 Ratings &amp; 11,054 Reviews</td>\n",
       "      <td>128 GB ROM</td>\n",
       "      <td>128 GB ROM</td>\n",
       "    </tr>\n",
       "    <tr>\n",
       "      <th>1</th>\n",
       "      <td>APPLE iPhone 11 (Black, 128 GB)</td>\n",
       "      <td>4.6</td>\n",
       "      <td>1,90,540 Ratings &amp; 11,054 Reviews</td>\n",
       "      <td>15.49 cm (6.1 inch) Liquid Retina HD Display</td>\n",
       "      <td>15.49 cm (6.1 inch) Liquid Retina HD Display</td>\n",
       "    </tr>\n",
       "    <tr>\n",
       "      <th>2</th>\n",
       "      <td>APPLE iPhone 11 (White, 64 GB)</td>\n",
       "      <td>4.6</td>\n",
       "      <td>1,90,540 Ratings &amp; 11,054 Reviews</td>\n",
       "      <td>12MP + 12MP | 12MP Front Camera</td>\n",
       "      <td>12MP + 12MP | 12MP Front Camera</td>\n",
       "    </tr>\n",
       "    <tr>\n",
       "      <th>3</th>\n",
       "      <td>APPLE iPhone 11 (Black, 64 GB)</td>\n",
       "      <td>4.6</td>\n",
       "      <td>1,90,540 Ratings &amp; 11,054 Reviews</td>\n",
       "      <td>A13 Bionic Chip Processor</td>\n",
       "      <td>A13 Bionic Chip Processor</td>\n",
       "    </tr>\n",
       "    <tr>\n",
       "      <th>4</th>\n",
       "      <td>APPLE iPhone 11 (Red, 128 GB)</td>\n",
       "      <td>4.6</td>\n",
       "      <td>1,90,540 Ratings &amp; 11,054 Reviews</td>\n",
       "      <td>Brand Warranty of 1 Year</td>\n",
       "      <td>Brand Warranty of 1 Year</td>\n",
       "    </tr>\n",
       "    <tr>\n",
       "      <th>5</th>\n",
       "      <td>APPLE iPhone 11 (Green, 64 GB)</td>\n",
       "      <td>4.6</td>\n",
       "      <td>1,90,540 Ratings &amp; 11,054 Reviews</td>\n",
       "      <td>128 GB ROM</td>\n",
       "      <td>128 GB ROM</td>\n",
       "    </tr>\n",
       "    <tr>\n",
       "      <th>6</th>\n",
       "      <td>APPLE iPhone 11 (Red, 64 GB)</td>\n",
       "      <td>4.6</td>\n",
       "      <td>1,90,540 Ratings &amp; 11,054 Reviews</td>\n",
       "      <td>15.49 cm (6.1 inch) Liquid Retina HD Display</td>\n",
       "      <td>15.49 cm (6.1 inch) Liquid Retina HD Display</td>\n",
       "    </tr>\n",
       "    <tr>\n",
       "      <th>7</th>\n",
       "      <td>APPLE iPhone 11 (Purple, 64 GB)</td>\n",
       "      <td>4.6</td>\n",
       "      <td>1,90,540 Ratings &amp; 11,054 Reviews</td>\n",
       "      <td>12MP + 12MP | 12MP Front Camera</td>\n",
       "      <td>12MP + 12MP | 12MP Front Camera</td>\n",
       "    </tr>\n",
       "    <tr>\n",
       "      <th>8</th>\n",
       "      <td>APPLE iPhone 11 (Yellow, 64 GB)</td>\n",
       "      <td>4.6</td>\n",
       "      <td>1,90,540 Ratings &amp; 11,054 Reviews</td>\n",
       "      <td>A13 Bionic Chip Processor</td>\n",
       "      <td>A13 Bionic Chip Processor</td>\n",
       "    </tr>\n",
       "    <tr>\n",
       "      <th>9</th>\n",
       "      <td>APPLE iPhone 11 (Yellow, 128 GB)</td>\n",
       "      <td>4.6</td>\n",
       "      <td>1,90,540 Ratings &amp; 11,054 Reviews</td>\n",
       "      <td>Brand Warranty of 1 Year</td>\n",
       "      <td>Brand Warranty of 1 Year</td>\n",
       "    </tr>\n",
       "    <tr>\n",
       "      <th>10</th>\n",
       "      <td>APPLE iPhone 11 (Green, 128 GB)</td>\n",
       "      <td>4.6</td>\n",
       "      <td>1,90,540 Ratings &amp; 11,054 Reviews</td>\n",
       "      <td>64 GB ROM</td>\n",
       "      <td>64 GB ROM</td>\n",
       "    </tr>\n",
       "    <tr>\n",
       "      <th>11</th>\n",
       "      <td>APPLE iPhone 11 (Purple, 128 GB)</td>\n",
       "      <td>4.6</td>\n",
       "      <td>1,90,540 Ratings &amp; 11,054 Reviews</td>\n",
       "      <td>15.49 cm (6.1 inch) Liquid Retina HD Display</td>\n",
       "      <td>15.49 cm (6.1 inch) Liquid Retina HD Display</td>\n",
       "    </tr>\n",
       "    <tr>\n",
       "      <th>12</th>\n",
       "      <td>APPLE iPhone 5s (Space Grey, 16 GB)</td>\n",
       "      <td>4.4</td>\n",
       "      <td>62,743 Ratings &amp; 7,347 Reviews</td>\n",
       "      <td>12MP + 12MP | 12MP Front Camera</td>\n",
       "      <td>12MP + 12MP | 12MP Front Camera</td>\n",
       "    </tr>\n",
       "    <tr>\n",
       "      <th>13</th>\n",
       "      <td>APPLE iPhone 11 Pro (Midnight Green, 64 GB)</td>\n",
       "      <td>4.6</td>\n",
       "      <td>8,666 Ratings &amp; 628 Reviews</td>\n",
       "      <td>A13 Bionic Chip Processor</td>\n",
       "      <td>A13 Bionic Chip Processor</td>\n",
       "    </tr>\n",
       "    <tr>\n",
       "      <th>14</th>\n",
       "      <td>APPLE iPhone 11 Pro Max (Midnight Green, 64 GB)</td>\n",
       "      <td>4.7</td>\n",
       "      <td>1,097 Ratings &amp; 100 Reviews</td>\n",
       "      <td>Brand Warranty of 1 Year</td>\n",
       "      <td>Brand Warranty of 1 Year</td>\n",
       "    </tr>\n",
       "    <tr>\n",
       "      <th>15</th>\n",
       "      <td>APPLE iPhone 11 Pro (Midnight Green, 512 GB)</td>\n",
       "      <td>4.6</td>\n",
       "      <td>8,666 Ratings &amp; 628 Reviews</td>\n",
       "      <td>64 GB ROM</td>\n",
       "      <td>64 GB ROM</td>\n",
       "    </tr>\n",
       "    <tr>\n",
       "      <th>16</th>\n",
       "      <td>APPLE iPhone 11 Pro Max (Space Grey, 64 GB)</td>\n",
       "      <td>4.7</td>\n",
       "      <td>1,097 Ratings &amp; 100 Reviews</td>\n",
       "      <td>15.49 cm (6.1 inch) Liquid Retina HD Display</td>\n",
       "      <td>15.49 cm (6.1 inch) Liquid Retina HD Display</td>\n",
       "    </tr>\n",
       "    <tr>\n",
       "      <th>17</th>\n",
       "      <td>APPLE iPhone 11 Pro (Silver, 256 GB)</td>\n",
       "      <td>4.6</td>\n",
       "      <td>8,666 Ratings &amp; 628 Reviews</td>\n",
       "      <td>12MP + 12MP | 12MP Front Camera</td>\n",
       "      <td>12MP + 12MP | 12MP Front Camera</td>\n",
       "    </tr>\n",
       "    <tr>\n",
       "      <th>18</th>\n",
       "      <td>APPLE iPhone 11 Pro (Silver, 512 GB)</td>\n",
       "      <td>4.6</td>\n",
       "      <td>8,666 Ratings &amp; 628 Reviews</td>\n",
       "      <td>A13 Bionic Chip Processor</td>\n",
       "      <td>A13 Bionic Chip Processor</td>\n",
       "    </tr>\n",
       "    <tr>\n",
       "      <th>19</th>\n",
       "      <td>APPLE iPhone 11 Pro (Space Grey, 512 GB)</td>\n",
       "      <td>4.6</td>\n",
       "      <td>8,666 Ratings &amp; 628 Reviews</td>\n",
       "      <td>Brand Warranty of 1 Year</td>\n",
       "      <td>Brand Warranty of 1 Year</td>\n",
       "    </tr>\n",
       "  </tbody>\n",
       "</table>\n",
       "</div>"
      ],
      "text/plain": [
       "                                            Product Rating  \\\n",
       "0                   APPLE iPhone 11 (White, 128 GB)    4.6   \n",
       "1                   APPLE iPhone 11 (Black, 128 GB)    4.6   \n",
       "2                    APPLE iPhone 11 (White, 64 GB)    4.6   \n",
       "3                    APPLE iPhone 11 (Black, 64 GB)    4.6   \n",
       "4                     APPLE iPhone 11 (Red, 128 GB)    4.6   \n",
       "5                    APPLE iPhone 11 (Green, 64 GB)    4.6   \n",
       "6                      APPLE iPhone 11 (Red, 64 GB)    4.6   \n",
       "7                   APPLE iPhone 11 (Purple, 64 GB)    4.6   \n",
       "8                   APPLE iPhone 11 (Yellow, 64 GB)    4.6   \n",
       "9                  APPLE iPhone 11 (Yellow, 128 GB)    4.6   \n",
       "10                  APPLE iPhone 11 (Green, 128 GB)    4.6   \n",
       "11                 APPLE iPhone 11 (Purple, 128 GB)    4.6   \n",
       "12              APPLE iPhone 5s (Space Grey, 16 GB)    4.4   \n",
       "13      APPLE iPhone 11 Pro (Midnight Green, 64 GB)    4.6   \n",
       "14  APPLE iPhone 11 Pro Max (Midnight Green, 64 GB)    4.7   \n",
       "15     APPLE iPhone 11 Pro (Midnight Green, 512 GB)    4.6   \n",
       "16      APPLE iPhone 11 Pro Max (Space Grey, 64 GB)    4.7   \n",
       "17             APPLE iPhone 11 Pro (Silver, 256 GB)    4.6   \n",
       "18             APPLE iPhone 11 Pro (Silver, 512 GB)    4.6   \n",
       "19         APPLE iPhone 11 Pro (Space Grey, 512 GB)    4.6   \n",
       "\n",
       "                               Review  \\\n",
       "0   1,90,540 Ratings & 11,054 Reviews   \n",
       "1   1,90,540 Ratings & 11,054 Reviews   \n",
       "2   1,90,540 Ratings & 11,054 Reviews   \n",
       "3   1,90,540 Ratings & 11,054 Reviews   \n",
       "4   1,90,540 Ratings & 11,054 Reviews   \n",
       "5   1,90,540 Ratings & 11,054 Reviews   \n",
       "6   1,90,540 Ratings & 11,054 Reviews   \n",
       "7   1,90,540 Ratings & 11,054 Reviews   \n",
       "8   1,90,540 Ratings & 11,054 Reviews   \n",
       "9   1,90,540 Ratings & 11,054 Reviews   \n",
       "10  1,90,540 Ratings & 11,054 Reviews   \n",
       "11  1,90,540 Ratings & 11,054 Reviews   \n",
       "12     62,743 Ratings & 7,347 Reviews   \n",
       "13        8,666 Ratings & 628 Reviews   \n",
       "14        1,097 Ratings & 100 Reviews   \n",
       "15        8,666 Ratings & 628 Reviews   \n",
       "16        1,097 Ratings & 100 Reviews   \n",
       "17        8,666 Ratings & 628 Reviews   \n",
       "18        8,666 Ratings & 628 Reviews   \n",
       "19        8,666 Ratings & 628 Reviews   \n",
       "\n",
       "                                             ROM  \\\n",
       "0                                     128 GB ROM   \n",
       "1   15.49 cm (6.1 inch) Liquid Retina HD Display   \n",
       "2                12MP + 12MP | 12MP Front Camera   \n",
       "3                      A13 Bionic Chip Processor   \n",
       "4                       Brand Warranty of 1 Year   \n",
       "5                                     128 GB ROM   \n",
       "6   15.49 cm (6.1 inch) Liquid Retina HD Display   \n",
       "7                12MP + 12MP | 12MP Front Camera   \n",
       "8                      A13 Bionic Chip Processor   \n",
       "9                       Brand Warranty of 1 Year   \n",
       "10                                     64 GB ROM   \n",
       "11  15.49 cm (6.1 inch) Liquid Retina HD Display   \n",
       "12               12MP + 12MP | 12MP Front Camera   \n",
       "13                     A13 Bionic Chip Processor   \n",
       "14                      Brand Warranty of 1 Year   \n",
       "15                                     64 GB ROM   \n",
       "16  15.49 cm (6.1 inch) Liquid Retina HD Display   \n",
       "17               12MP + 12MP | 12MP Front Camera   \n",
       "18                     A13 Bionic Chip Processor   \n",
       "19                      Brand Warranty of 1 Year   \n",
       "\n",
       "                                         Display  \n",
       "0                                     128 GB ROM  \n",
       "1   15.49 cm (6.1 inch) Liquid Retina HD Display  \n",
       "2                12MP + 12MP | 12MP Front Camera  \n",
       "3                      A13 Bionic Chip Processor  \n",
       "4                       Brand Warranty of 1 Year  \n",
       "5                                     128 GB ROM  \n",
       "6   15.49 cm (6.1 inch) Liquid Retina HD Display  \n",
       "7                12MP + 12MP | 12MP Front Camera  \n",
       "8                      A13 Bionic Chip Processor  \n",
       "9                       Brand Warranty of 1 Year  \n",
       "10                                     64 GB ROM  \n",
       "11  15.49 cm (6.1 inch) Liquid Retina HD Display  \n",
       "12               12MP + 12MP | 12MP Front Camera  \n",
       "13                     A13 Bionic Chip Processor  \n",
       "14                      Brand Warranty of 1 Year  \n",
       "15                                     64 GB ROM  \n",
       "16  15.49 cm (6.1 inch) Liquid Retina HD Display  \n",
       "17               12MP + 12MP | 12MP Front Camera  \n",
       "18                     A13 Bionic Chip Processor  \n",
       "19                      Brand Warranty of 1 Year  "
      ]
     },
     "execution_count": 114,
     "metadata": {},
     "output_type": "execute_result"
    }
   ],
   "source": [
    "df=pd.DataFrame()\n",
    "df['Product']=product_p\n",
    "df['Rating']=rating_r\n",
    "df['Review']= review_R\n",
    "df['ROM']= rom_M\n",
    "df['Display']= display_d\n",
    "df"
   ]
  },
  {
   "cell_type": "markdown",
   "id": "98b928ab",
   "metadata": {},
   "source": [
    "# ****QUES4...   Write a python program to access the search bar and search button on images.google.com and scrape 10 \n",
    "images each for keywords ‘fruits’, ‘cars’ and ‘Machine Learning’, ‘Guitar’, ‘Cakes’. "
   ]
  },
  {
   "cell_type": "code",
   "execution_count": 266,
   "id": "634eed4e",
   "metadata": {},
   "outputs": [],
   "source": [
    "import selenium\n",
    "import pandas as pd\n",
    "from selenium import webdriver\n",
    "import warnings\n",
    "warnings.filterwarnings('ignore')\n",
    "from selenium.common.exceptions import StaleElementReferenceException, NoSuchElementException\n",
    "from selenium.webdriver.common.by import By\n",
    "import time"
   ]
  },
  {
   "cell_type": "code",
   "execution_count": 267,
   "id": "6adf53b2",
   "metadata": {},
   "outputs": [],
   "source": [
    "driver= webdriver.Chrome(r\"C:\\Users\\Admin\\Downloads\\chromedriver.exe\")"
   ]
  },
  {
   "cell_type": "code",
   "execution_count": 268,
   "id": "d71474f7",
   "metadata": {
    "scrolled": true
   },
   "outputs": [],
   "source": [
    "driver.get(\"https://www.google.com\")"
   ]
  },
  {
   "cell_type": "code",
   "execution_count": 269,
   "id": "3d13d39f",
   "metadata": {},
   "outputs": [],
   "source": [
    "search_bar= driver.find_element(By.XPATH,\"/html/body/div[1]/div[3]/form/div[1]/div[1]/div[1]/div/div[2]/textarea\")\n",
    "search_bar.send_keys('fruits images')"
   ]
  },
  {
   "cell_type": "code",
   "execution_count": 270,
   "id": "6cf9d0af",
   "metadata": {},
   "outputs": [],
   "source": [
    "btn=driver.find_element(By.XPATH,\"//input[@class='gNO89b']\")\n",
    "btn.click()\n",
    "time.sleep(2)"
   ]
  },
  {
   "cell_type": "code",
   "execution_count": 271,
   "id": "7232e2a9",
   "metadata": {},
   "outputs": [],
   "source": [
    "for _ in range(500):\n",
    "    driver.execute_script(\"window.scrollBy(0,10000)\")\n"
   ]
  },
  {
   "cell_type": "code",
   "execution_count": 272,
   "id": "a2bc7aa9",
   "metadata": {},
   "outputs": [
    {
     "data": {
      "text/plain": [
       "[<selenium.webdriver.remote.webelement.WebElement (session=\"14e3492d506a81b0167c50994ca065ce\", element=\"ea7393a5-3a76-4a8e-9a06-bc9396f0f0a7\")>,\n",
       " <selenium.webdriver.remote.webelement.WebElement (session=\"14e3492d506a81b0167c50994ca065ce\", element=\"58875950-24f5-477e-92f3-4ba408dd434e\")>,\n",
       " <selenium.webdriver.remote.webelement.WebElement (session=\"14e3492d506a81b0167c50994ca065ce\", element=\"0ebed8f7-5b72-46f9-9b1d-eb47993d7f56\")>,\n",
       " <selenium.webdriver.remote.webelement.WebElement (session=\"14e3492d506a81b0167c50994ca065ce\", element=\"7485a5b7-4ddf-4342-8087-736a125f1776\")>,\n",
       " <selenium.webdriver.remote.webelement.WebElement (session=\"14e3492d506a81b0167c50994ca065ce\", element=\"a5e2f251-3de0-4f6b-b138-ad32dbf8da50\")>,\n",
       " <selenium.webdriver.remote.webelement.WebElement (session=\"14e3492d506a81b0167c50994ca065ce\", element=\"cf684f44-56bd-41b0-b608-610a35367524\")>,\n",
       " <selenium.webdriver.remote.webelement.WebElement (session=\"14e3492d506a81b0167c50994ca065ce\", element=\"55e35cfa-cc95-4d92-9656-a93396729dca\")>,\n",
       " <selenium.webdriver.remote.webelement.WebElement (session=\"14e3492d506a81b0167c50994ca065ce\", element=\"356774a5-76ac-4067-8c72-517562d80222\")>,\n",
       " <selenium.webdriver.remote.webelement.WebElement (session=\"14e3492d506a81b0167c50994ca065ce\", element=\"d70616db-adda-489b-ad48-4819458a3e1a\")>,\n",
       " <selenium.webdriver.remote.webelement.WebElement (session=\"14e3492d506a81b0167c50994ca065ce\", element=\"3071ae77-31c3-43c2-9a8e-460225bf2caf\")>,\n",
       " <selenium.webdriver.remote.webelement.WebElement (session=\"14e3492d506a81b0167c50994ca065ce\", element=\"b67adcc6-bf11-4aef-99e7-6370f27c7713\")>,\n",
       " <selenium.webdriver.remote.webelement.WebElement (session=\"14e3492d506a81b0167c50994ca065ce\", element=\"38efc091-bfcd-40a4-b3be-6d9fe01570c2\")>]"
      ]
     },
     "execution_count": 272,
     "metadata": {},
     "output_type": "execute_result"
    }
   ],
   "source": [
    "images = driver.find_elements(By.XPATH,'//div[@class=\"uhHOwf BYbUcd\"]')\n",
    "images\n",
    "\n"
   ]
  },
  {
   "cell_type": "code",
   "execution_count": 273,
   "id": "febaaa25",
   "metadata": {},
   "outputs": [
    {
     "data": {
      "text/plain": [
       "0"
      ]
     },
     "execution_count": 273,
     "metadata": {},
     "output_type": "execute_result"
    }
   ],
   "source": [
    "img_urls = []\n",
    "img_data = []\n",
    "for image in images:\n",
    "    source= image.get_attribute('src')\n",
    "    if source is not None:\n",
    "        if(source[0:4] == 'http'):\n",
    "            img_urls.append(source)\n",
    "len(img_urls)"
   ]
  },
  {
   "cell_type": "code",
   "execution_count": 274,
   "id": "4c2dba9e",
   "metadata": {},
   "outputs": [],
   "source": [
    "for i in range(len(img_urls)):\n",
    "    if i >= 100:\n",
    "        break\n",
    "    print(\"Downloading {0} of {1} images\" .format(i, 100))\n",
    "    response= requests.get(img_urls[i])\n",
    "    file = open(r\"C:\\Users\\Admin\\Documents\\datatrained\"+str(i)+\".jpg\", \"wb\")\n",
    "    file.write(response.content)\n"
   ]
  },
  {
   "cell_type": "markdown",
   "id": "562afb17",
   "metadata": {},
   "source": [
    "# ****Ques5...Write a program to scrap geospatial coordinates (latitude, longitude) of a city searched on google maps."
   ]
  },
  {
   "cell_type": "code",
   "execution_count": 24,
   "id": "85af367d",
   "metadata": {},
   "outputs": [],
   "source": [
    "import selenium\n",
    "import pandas as pd\n",
    "from selenium import webdriver\n",
    "import warnings\n",
    "warnings.filterwarnings('ignore')\n",
    "from selenium.common.exceptions import StaleElementReferenceException, NoSuchElementException\n",
    "from selenium.webdriver.common.by import By\n",
    "import time"
   ]
  },
  {
   "cell_type": "code",
   "execution_count": 289,
   "id": "7df1d50a",
   "metadata": {},
   "outputs": [],
   "source": [
    "driver= webdriver.Chrome(r\"C:\\Users\\Admin\\Downloads\\chromedriver.exe\")"
   ]
  },
  {
   "cell_type": "code",
   "execution_count": 290,
   "id": "1ed15c3f",
   "metadata": {},
   "outputs": [],
   "source": [
    "driver.get(\"https://www.google.com\")"
   ]
  },
  {
   "cell_type": "code",
   "execution_count": 291,
   "id": "de8813a1",
   "metadata": {},
   "outputs": [],
   "source": [
    "search_bar= driver.find_element(By.XPATH,\"/html/body/div[1]/div[3]/form/div[1]/div[1]/div[1]/div/div[2]/textarea\")\n",
    "search_bar.send_keys('google map')"
   ]
  },
  {
   "cell_type": "code",
   "execution_count": 292,
   "id": "89dbdffe",
   "metadata": {},
   "outputs": [],
   "source": [
    "btn=driver.find_element(By.XPATH,\"//input[@class='gNO89b']\")\n",
    "btn.click()\n",
    "time.sleep(2)"
   ]
  },
  {
   "cell_type": "code",
   "execution_count": 293,
   "id": "4e09f9ae",
   "metadata": {
    "scrolled": true
   },
   "outputs": [],
   "source": [
    "map_btn= driver.find_element(By.XPATH,\"/html/body/div[7]/div/div[4]/div/div[1]/div/div[1]/div/div[2]/a\")\n",
    "map_btn.click()"
   ]
  },
  {
   "cell_type": "code",
   "execution_count": 294,
   "id": "eef30877",
   "metadata": {},
   "outputs": [],
   "source": [
    "search_b= driver.find_element(By.XPATH,\"/html/body/div[3]/div[9]/div[3]/div[1]/div[1]/div[1]/div[2]/form/div[2]/div[3]/div/input[1]\")\n",
    "search_b.send_keys('delhi')"
   ]
  },
  {
   "cell_type": "code",
   "execution_count": 295,
   "id": "69879d30",
   "metadata": {},
   "outputs": [],
   "source": [
    "bt=driver.find_element(By.XPATH,\"//div[@class='pzfvzf']\")\n",
    "bt.click()\n",
    "time.sleep(3)"
   ]
  },
  {
   "cell_type": "code",
   "execution_count": 297,
   "id": "15547e56",
   "metadata": {},
   "outputs": [
    {
     "ename": "IndentationError",
     "evalue": "unindent does not match any outer indentation level (<tokenize>, line 3)",
     "output_type": "error",
     "traceback": [
      "\u001b[1;36m  File \u001b[1;32m<tokenize>:3\u001b[1;36m\u001b[0m\n\u001b[1;33m    print(\"URL Extracted: \", url_string)\u001b[0m\n\u001b[1;37m    ^\u001b[0m\n\u001b[1;31mIndentationError\u001b[0m\u001b[1;31m:\u001b[0m unindent does not match any outer indentation level\n"
     ]
    }
   ],
   "source": [
    "try:\n",
    "        url_string = driver.current_url\n",
    "    print(\"URL Extracted: \", url_string)\n",
    "    lat_lng = re.findall(r'@(.*)data',url_string)\n",
    "    if len(lat_lng):\n",
    "        lat_lng_list = lat_lng[0].split(\",\")\n",
    "        if len(lat_lng_list)>=2:\n",
    "            lat = lat_lng_list[0]\n",
    "            lng = lat_lng_list[1]\n",
    "        print(\"Latitude = {}, Longitude = {}\".format(lat, lng))\n",
    "\n",
    "except Exception as e:\n",
    "        print(\"Error: \", str(e))\n"
   ]
  },
  {
   "cell_type": "markdown",
   "id": "51e86d1f",
   "metadata": {},
   "source": [
    "# *****QUES6..6. Write a program to scrap all the available details of best gaming laptops from digit.in. \n"
   ]
  },
  {
   "cell_type": "code",
   "execution_count": 73,
   "id": "01db427a",
   "metadata": {},
   "outputs": [],
   "source": [
    "driver= webdriver.Chrome(r\"C:\\Users\\Admin\\Downloads\\chromedriver.exe\")"
   ]
  },
  {
   "cell_type": "code",
   "execution_count": 74,
   "id": "db7f15b2",
   "metadata": {
    "scrolled": true
   },
   "outputs": [],
   "source": [
    "driver.get(\"https://www.digit.in/top-products/best-gaming-laptops-40.html\")\n"
   ]
  },
  {
   "cell_type": "code",
   "execution_count": 75,
   "id": "c77f4a2d",
   "metadata": {},
   "outputs": [],
   "source": [
    "Brands_b=[]\n",
    "Products_Description=[]\n",
    "Specification_s=[]\n",
    "Price_P=[]\n"
   ]
  },
  {
   "cell_type": "code",
   "execution_count": 76,
   "id": "969043dd",
   "metadata": {},
   "outputs": [],
   "source": [
    "b_tags=driver.find_elements(By.XPATH,'/html/body/div[9]/div[1]/div[3]/div[2]/div[1]/div[1]/div[1]/a')\n",
    "for i in b_tags[0:10]:\n",
    "    b=i.text\n",
    "    Brands_b.append(b)"
   ]
  },
  {
   "cell_type": "code",
   "execution_count": 77,
   "id": "87592f16",
   "metadata": {},
   "outputs": [],
   "source": [
    "Description_tags=driver.find_elements(By.XPATH,'//div[@class=\"Specs-Wrap\"]')\n",
    "for i in Description_tags[0:10]:\n",
    "    Description=i.text\n",
    "    Products_Description.append(Description)"
   ]
  },
  {
   "cell_type": "code",
   "execution_count": 78,
   "id": "511b0859",
   "metadata": {},
   "outputs": [],
   "source": [
    "s_tags=driver.find_elements(By.XPATH,'//div[@class=\"Section-center\"]')\n",
    "for i in s_tags[0:10]:\n",
    "    s=i.text\n",
    "    Specification_s.append(s)"
   ]
  },
  {
   "cell_type": "code",
   "execution_count": 79,
   "id": "f2d1146f",
   "metadata": {},
   "outputs": [],
   "source": [
    "P_tags=driver.find_elements(By.XPATH,'//td[@class=\"Bootom-merchant\"]')\n",
    "for i in P_tags[0:10]:\n",
    "    P=i.text\n",
    "    Price_P.append(P)"
   ]
  },
  {
   "cell_type": "code",
   "execution_count": 80,
   "id": "7d67adb1",
   "metadata": {},
   "outputs": [
    {
     "data": {
      "text/html": [
       "<div>\n",
       "<style scoped>\n",
       "    .dataframe tbody tr th:only-of-type {\n",
       "        vertical-align: middle;\n",
       "    }\n",
       "\n",
       "    .dataframe tbody tr th {\n",
       "        vertical-align: top;\n",
       "    }\n",
       "\n",
       "    .dataframe thead th {\n",
       "        text-align: right;\n",
       "    }\n",
       "</style>\n",
       "<table border=\"1\" class=\"dataframe\">\n",
       "  <thead>\n",
       "    <tr style=\"text-align: right;\">\n",
       "      <th></th>\n",
       "      <th>Brands_b</th>\n",
       "      <th>Price_P</th>\n",
       "      <th>Specification_s</th>\n",
       "      <th>Products_Description</th>\n",
       "    </tr>\n",
       "  </thead>\n",
       "  <tbody>\n",
       "    <tr>\n",
       "      <th>0</th>\n",
       "      <td>NaN</td>\n",
       "      <td>NaN</td>\n",
       "      <td>NaN</td>\n",
       "      <td>Windows 11 Home\\n17.3\" (3840 x 2160)\\n12th Gen...</td>\n",
       "    </tr>\n",
       "    <tr>\n",
       "      <th>1</th>\n",
       "      <td>NaN</td>\n",
       "      <td>NaN</td>\n",
       "      <td>NaN</td>\n",
       "      <td>Windows 11 Home\\n16\" (2560 x 1600)\\n12th Gen I...</td>\n",
       "    </tr>\n",
       "    <tr>\n",
       "      <th>2</th>\n",
       "      <td>NaN</td>\n",
       "      <td>NaN</td>\n",
       "      <td>NaN</td>\n",
       "      <td>Windows 11 Home\\n17.3\" (1920 x 1080)\\n12th Gen...</td>\n",
       "    </tr>\n",
       "    <tr>\n",
       "      <th>3</th>\n",
       "      <td>NaN</td>\n",
       "      <td>NaN</td>\n",
       "      <td>NaN</td>\n",
       "      <td>Windows 11\\n16\" (2560 x 1600)\\n12th Gen Intel ...</td>\n",
       "    </tr>\n",
       "    <tr>\n",
       "      <th>4</th>\n",
       "      <td>NaN</td>\n",
       "      <td>NaN</td>\n",
       "      <td>NaN</td>\n",
       "      <td>Windows 11 Home\\n16.1\" (2560 x 1440)\\n12th Gen...</td>\n",
       "    </tr>\n",
       "    <tr>\n",
       "      <th>5</th>\n",
       "      <td>NaN</td>\n",
       "      <td>NaN</td>\n",
       "      <td>NaN</td>\n",
       "      <td>Windows 11 Home\\n15.6\" (2560 x 1440)\\nAMD Ryze...</td>\n",
       "    </tr>\n",
       "    <tr>\n",
       "      <th>6</th>\n",
       "      <td>NaN</td>\n",
       "      <td>NaN</td>\n",
       "      <td>NaN</td>\n",
       "      <td>Windows 11 Home\\n15.6\" (1920 x 1080)\\nAMD 5th ...</td>\n",
       "    </tr>\n",
       "    <tr>\n",
       "      <th>7</th>\n",
       "      <td>NaN</td>\n",
       "      <td>NaN</td>\n",
       "      <td>NaN</td>\n",
       "      <td>Windows 11 Home\\n16.1\" (2560 x 1440)\\nAMD Ryze...</td>\n",
       "    </tr>\n",
       "    <tr>\n",
       "      <th>8</th>\n",
       "      <td>NaN</td>\n",
       "      <td>NaN</td>\n",
       "      <td>NaN</td>\n",
       "      <td>Windows 11 Home\\n16\" (2560 x 1600)\\n12th Gen I...</td>\n",
       "    </tr>\n",
       "    <tr>\n",
       "      <th>9</th>\n",
       "      <td>NaN</td>\n",
       "      <td>NaN</td>\n",
       "      <td>NaN</td>\n",
       "      <td>Windows 11 Home\\n15.6\" (1920 x 1080)\\nAMD Ryze...</td>\n",
       "    </tr>\n",
       "  </tbody>\n",
       "</table>\n",
       "</div>"
      ],
      "text/plain": [
       "   Brands_b  Price_P  Specification_s  \\\n",
       "0       NaN      NaN              NaN   \n",
       "1       NaN      NaN              NaN   \n",
       "2       NaN      NaN              NaN   \n",
       "3       NaN      NaN              NaN   \n",
       "4       NaN      NaN              NaN   \n",
       "5       NaN      NaN              NaN   \n",
       "6       NaN      NaN              NaN   \n",
       "7       NaN      NaN              NaN   \n",
       "8       NaN      NaN              NaN   \n",
       "9       NaN      NaN              NaN   \n",
       "\n",
       "                                Products_Description  \n",
       "0  Windows 11 Home\\n17.3\" (3840 x 2160)\\n12th Gen...  \n",
       "1  Windows 11 Home\\n16\" (2560 x 1600)\\n12th Gen I...  \n",
       "2  Windows 11 Home\\n17.3\" (1920 x 1080)\\n12th Gen...  \n",
       "3  Windows 11\\n16\" (2560 x 1600)\\n12th Gen Intel ...  \n",
       "4  Windows 11 Home\\n16.1\" (2560 x 1440)\\n12th Gen...  \n",
       "5  Windows 11 Home\\n15.6\" (2560 x 1440)\\nAMD Ryze...  \n",
       "6  Windows 11 Home\\n15.6\" (1920 x 1080)\\nAMD 5th ...  \n",
       "7  Windows 11 Home\\n16.1\" (2560 x 1440)\\nAMD Ryze...  \n",
       "8  Windows 11 Home\\n16\" (2560 x 1600)\\n12th Gen I...  \n",
       "9  Windows 11 Home\\n15.6\" (1920 x 1080)\\nAMD Ryze...  "
      ]
     },
     "execution_count": 80,
     "metadata": {},
     "output_type": "execute_result"
    }
   ],
   "source": [
    "df=pd.DataFrame([])\n",
    "df['Brands_b']=Brands\n",
    "df['Price_P']=Price\n",
    "df['Specification_s']=Specification\n",
    "df['Products_Description']=Products_Description\n",
    "df"
   ]
  },
  {
   "cell_type": "code",
   "execution_count": null,
   "id": "4a414d36",
   "metadata": {},
   "outputs": [],
   "source": []
  }
 ],
 "metadata": {
  "kernelspec": {
   "display_name": "Python 3 (ipykernel)",
   "language": "python",
   "name": "python3"
  },
  "language_info": {
   "codemirror_mode": {
    "name": "ipython",
    "version": 3
   },
   "file_extension": ".py",
   "mimetype": "text/x-python",
   "name": "python",
   "nbconvert_exporter": "python",
   "pygments_lexer": "ipython3",
   "version": "3.9.12"
  }
 },
 "nbformat": 4,
 "nbformat_minor": 5
}
