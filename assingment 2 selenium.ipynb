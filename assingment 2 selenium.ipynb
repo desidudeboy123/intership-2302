{
 "cells": [
  {
   "cell_type": "markdown",
   "id": "d0faca65",
   "metadata": {},
   "source": [
    "#                         ASSINGMENT 2    PDF 2.....\n",
    "                             "
   ]
  },
  {
   "cell_type": "markdown",
   "id": "5d8f6e64",
   "metadata": {},
   "source": [
    "# Q1: Write a python program to scrape data for “Data Analyst” Job position in “Bangalore” location. You \n",
    "have to scrape the job-title, job-location, company_name, experience_required. You have to scrape first 10 \n",
    "jobs data.\n",
    "This task will be done in following steps:\n",
    "1. First get the webpage https://www.naukri.com/\n",
    "2. Enter “Data Analyst” in “Skill, Designations, Companies” field and enter “Bangalore” in “enter the \n",
    "location” field.\n",
    "3. Then click the searchbutton.\n",
    "4. Then scrape the data for the first 10 jobs results you get.\n",
    "5. Finally create a dataframe of the scraped data."
   ]
  },
  {
   "cell_type": "code",
   "execution_count": 24,
   "id": "c414c65d",
   "metadata": {
    "scrolled": true
   },
   "outputs": [
    {
     "name": "stdout",
     "output_type": "stream",
     "text": [
      "Requirement already satisfied: selenium in c:\\users\\admin\\anaconda3\\lib\\site-packages (4.8.3)\n",
      "Requirement already satisfied: trio-websocket~=0.9 in c:\\users\\admin\\anaconda3\\lib\\site-packages (from selenium) (0.10.2)\n",
      "Requirement already satisfied: certifi>=2021.10.8 in c:\\users\\admin\\anaconda3\\lib\\site-packages (from selenium) (2021.10.8)\n",
      "Requirement already satisfied: trio~=0.17 in c:\\users\\admin\\anaconda3\\lib\\site-packages (from selenium) (0.22.0)\n",
      "Requirement already satisfied: urllib3[socks]~=1.26 in c:\\users\\admin\\anaconda3\\lib\\site-packages (from selenium) (1.26.9)\n",
      "Requirement already satisfied: outcome in c:\\users\\admin\\anaconda3\\lib\\site-packages (from trio~=0.17->selenium) (1.2.0)\n",
      "Requirement already satisfied: cffi>=1.14 in c:\\users\\admin\\anaconda3\\lib\\site-packages (from trio~=0.17->selenium) (1.15.0)\n",
      "Requirement already satisfied: idna in c:\\users\\admin\\anaconda3\\lib\\site-packages (from trio~=0.17->selenium) (3.3)\n",
      "Requirement already satisfied: sortedcontainers in c:\\users\\admin\\anaconda3\\lib\\site-packages (from trio~=0.17->selenium) (2.4.0)\n",
      "Requirement already satisfied: async-generator>=1.9 in c:\\users\\admin\\anaconda3\\lib\\site-packages (from trio~=0.17->selenium) (1.10)\n",
      "Requirement already satisfied: attrs>=19.2.0 in c:\\users\\admin\\anaconda3\\lib\\site-packages (from trio~=0.17->selenium) (21.4.0)\n",
      "Requirement already satisfied: exceptiongroup>=1.0.0rc9 in c:\\users\\admin\\anaconda3\\lib\\site-packages (from trio~=0.17->selenium) (1.1.1)\n",
      "Requirement already satisfied: sniffio in c:\\users\\admin\\anaconda3\\lib\\site-packages (from trio~=0.17->selenium) (1.2.0)\n",
      "Requirement already satisfied: pycparser in c:\\users\\admin\\anaconda3\\lib\\site-packages (from cffi>=1.14->trio~=0.17->selenium) (2.21)\n",
      "Requirement already satisfied: wsproto>=0.14 in c:\\users\\admin\\anaconda3\\lib\\site-packages (from trio-websocket~=0.9->selenium) (1.2.0)\n",
      "Requirement already satisfied: PySocks!=1.5.7,<2.0,>=1.5.6 in c:\\users\\admin\\anaconda3\\lib\\site-packages (from urllib3[socks]~=1.26->selenium) (1.7.1)\n",
      "Requirement already satisfied: h11<1,>=0.9.0 in c:\\users\\admin\\anaconda3\\lib\\site-packages (from wsproto>=0.14->trio-websocket~=0.9->selenium) (0.14.0)\n"
     ]
    }
   ],
   "source": [
    "!pip install selenium"
   ]
  },
  {
   "cell_type": "code",
   "execution_count": 29,
   "id": "0ce30e63",
   "metadata": {},
   "outputs": [],
   "source": [
    "import selenium\n",
    "import pandas as pd\n",
    "from selenium import webdriver\n",
    "import warnings\n",
    "warnings.filterwarnings('ignore')\n",
    "from selenium.common.exceptions import StaleElementReferenceException, NoSuchElementException\n",
    "from selenium.webdriver.common.by import By\n",
    "import time\n"
   ]
  },
  {
   "cell_type": "code",
   "execution_count": 30,
   "id": "ce864842",
   "metadata": {},
   "outputs": [],
   "source": [
    "driver= webdriver.Chrome(r\"C:\\Users\\Admin\\Downloads\\chromedriver.exe\")"
   ]
  },
  {
   "cell_type": "code",
   "execution_count": 31,
   "id": "af2eefea",
   "metadata": {},
   "outputs": [],
   "source": [
    "driver.get(\"https://www.naukri.com/\")\n"
   ]
  },
  {
   "cell_type": "code",
   "execution_count": 32,
   "id": "f76b56ae",
   "metadata": {
    "scrolled": false
   },
   "outputs": [],
   "source": [
    "designation = driver.find_element(By.CLASS_NAME,\"suggestor-input\")\n",
    "designation.send_keys('Data Analyst')"
   ]
  },
  {
   "cell_type": "code",
   "execution_count": 33,
   "id": "07fd9935",
   "metadata": {},
   "outputs": [],
   "source": [
    "location=driver.find_element(By.XPATH,\"/html/body/div[1]/div[7]/div/div/div[1]/div/div/div[1]/div[1]/div/input\")\n",
    "location.send_keys('Banglore')"
   ]
  },
  {
   "cell_type": "code",
   "execution_count": 34,
   "id": "e7fdc01b",
   "metadata": {},
   "outputs": [],
   "source": [
    "search=driver.find_element(By.CLASS_NAME,\"qsbSubmit\")\n",
    "search.click()"
   ]
  },
  {
   "cell_type": "code",
   "execution_count": 38,
   "id": "8e2d707e",
   "metadata": {},
   "outputs": [],
   "source": [
    "job_title=[]\n",
    "job_location=[]\n",
    "company_name=[]\n",
    "experience_required=[]"
   ]
  },
  {
   "cell_type": "code",
   "execution_count": 40,
   "id": "fb916661",
   "metadata": {},
   "outputs": [],
   "source": [
    "title_tags=driver.find_elements(By.XPATH,'//a[@class=\"title ellipsis\"]')\n",
    "for i in title_tags[0:10]:\n",
    "    title=i.text\n",
    "    job_title.append(title)\n"
   ]
  },
  {
   "cell_type": "code",
   "execution_count": 43,
   "id": "3a8b369d",
   "metadata": {},
   "outputs": [],
   "source": [
    "location_tags=driver.find_elements(By.XPATH,'//span[@class=\"ellipsis fleft locWdth\"]')\n",
    "for i in location_tags[0:10]:\n",
    "    location=i.text\n",
    "    job_location.append(location)\n"
   ]
  },
  {
   "cell_type": "code",
   "execution_count": 46,
   "id": "f3936e15",
   "metadata": {
    "scrolled": true
   },
   "outputs": [],
   "source": [
    "company_tags=driver.find_elements(By.XPATH,'//a[@class=\"subTitle ellipsis fleft\"]')\n",
    "for i in company_tags[0:10]:\n",
    "    company=i.text\n",
    "    company_name.append(company)"
   ]
  },
  {
   "cell_type": "code",
   "execution_count": 47,
   "id": "5b60fb3a",
   "metadata": {},
   "outputs": [],
   "source": [
    "experience_tags=driver.find_elements(By.XPATH,'//span[@class=\"ellipsis fleft expwdth\"]')\n",
    "for i in experience_tags[0:10]:\n",
    "    experience=i.text\n",
    "    experience_required.append(experience)            "
   ]
  },
  {
   "cell_type": "code",
   "execution_count": 49,
   "id": "7093e5d2",
   "metadata": {
    "scrolled": false
   },
   "outputs": [
    {
     "name": "stdout",
     "output_type": "stream",
     "text": [
      "10 10 10 10\n"
     ]
    }
   ],
   "source": [
    "print(len(job_title),len(job_location),len(company_name),len(experience_required))"
   ]
  },
  {
   "cell_type": "code",
   "execution_count": 57,
   "id": "84890c1b",
   "metadata": {
    "scrolled": true
   },
   "outputs": [],
   "source": [
    "import pandas as pd"
   ]
  },
  {
   "cell_type": "code",
   "execution_count": 85,
   "id": "4eca6cf3",
   "metadata": {
    "scrolled": true
   },
   "outputs": [
    {
     "data": {
      "text/html": [
       "<div>\n",
       "<style scoped>\n",
       "    .dataframe tbody tr th:only-of-type {\n",
       "        vertical-align: middle;\n",
       "    }\n",
       "\n",
       "    .dataframe tbody tr th {\n",
       "        vertical-align: top;\n",
       "    }\n",
       "\n",
       "    .dataframe thead th {\n",
       "        text-align: right;\n",
       "    }\n",
       "</style>\n",
       "<table border=\"1\" class=\"dataframe\">\n",
       "  <thead>\n",
       "    <tr style=\"text-align: right;\">\n",
       "      <th></th>\n",
       "      <th>title</th>\n",
       "      <th>company</th>\n",
       "      <th>experience_required</th>\n",
       "      <th>location</th>\n",
       "    </tr>\n",
       "  </thead>\n",
       "  <tbody>\n",
       "    <tr>\n",
       "      <th>0</th>\n",
       "      <td>Data Analyst</td>\n",
       "      <td>Nityo Infotech</td>\n",
       "      <td>5-9 Yrs</td>\n",
       "      <td>Pune</td>\n",
       "    </tr>\n",
       "    <tr>\n",
       "      <th>1</th>\n",
       "      <td>Data Engineer/Data Analyst</td>\n",
       "      <td>Tech Mahindra</td>\n",
       "      <td>6-11 Yrs</td>\n",
       "      <td>Hybrid - Kolkata, Hyderabad/Secunderabad, Pune...</td>\n",
       "    </tr>\n",
       "    <tr>\n",
       "      <th>2</th>\n",
       "      <td>Data Analyst</td>\n",
       "      <td>ICICI Lombard</td>\n",
       "      <td>3-4 Yrs</td>\n",
       "      <td>Mumbai (All Areas)</td>\n",
       "    </tr>\n",
       "    <tr>\n",
       "      <th>3</th>\n",
       "      <td>Data Analyst</td>\n",
       "      <td>Ingersoll Rand</td>\n",
       "      <td>3-6 Yrs</td>\n",
       "      <td>Bangalore/Bengaluru</td>\n",
       "    </tr>\n",
       "    <tr>\n",
       "      <th>4</th>\n",
       "      <td>Data Analyst</td>\n",
       "      <td>Unusual Hire</td>\n",
       "      <td>1-4 Yrs</td>\n",
       "      <td>Bangalore/Bengaluru</td>\n",
       "    </tr>\n",
       "    <tr>\n",
       "      <th>5</th>\n",
       "      <td>Data Analyst - Contractual</td>\n",
       "      <td>Search Advisers Services Guj</td>\n",
       "      <td>2-3 Yrs</td>\n",
       "      <td>Bangalore/Bengaluru</td>\n",
       "    </tr>\n",
       "    <tr>\n",
       "      <th>6</th>\n",
       "      <td>Data Analyst - Contractual</td>\n",
       "      <td>Search Advisers Services Guj</td>\n",
       "      <td>2-3 Yrs</td>\n",
       "      <td>Bangalore/Bengaluru</td>\n",
       "    </tr>\n",
       "    <tr>\n",
       "      <th>7</th>\n",
       "      <td>ExcelHER-Data Analyst</td>\n",
       "      <td>Volvo Financial Services</td>\n",
       "      <td>3-5 Yrs</td>\n",
       "      <td>Kolkata, Mumbai, New Delhi, Hyderabad/Secunder...</td>\n",
       "    </tr>\n",
       "    <tr>\n",
       "      <th>8</th>\n",
       "      <td>Data Analyst</td>\n",
       "      <td>Gosource Digihub</td>\n",
       "      <td>0-1 Yrs</td>\n",
       "      <td>Mumbai (All Areas)(Indira Nagar +1)</td>\n",
       "    </tr>\n",
       "    <tr>\n",
       "      <th>9</th>\n",
       "      <td>Data Analyst</td>\n",
       "      <td>Clarivate</td>\n",
       "      <td>2-4 Yrs</td>\n",
       "      <td>Bangalore/Bengaluru</td>\n",
       "    </tr>\n",
       "  </tbody>\n",
       "</table>\n",
       "</div>"
      ],
      "text/plain": [
       "                        title                       company  \\\n",
       "0                Data Analyst                Nityo Infotech   \n",
       "1  Data Engineer/Data Analyst                 Tech Mahindra   \n",
       "2                Data Analyst                 ICICI Lombard   \n",
       "3                Data Analyst                Ingersoll Rand   \n",
       "4                Data Analyst                  Unusual Hire   \n",
       "5  Data Analyst - Contractual  Search Advisers Services Guj   \n",
       "6  Data Analyst - Contractual  Search Advisers Services Guj   \n",
       "7       ExcelHER-Data Analyst      Volvo Financial Services   \n",
       "8                Data Analyst              Gosource Digihub   \n",
       "9                Data Analyst                     Clarivate   \n",
       "\n",
       "  experience_required                                           location  \n",
       "0             5-9 Yrs                                               Pune  \n",
       "1            6-11 Yrs  Hybrid - Kolkata, Hyderabad/Secunderabad, Pune...  \n",
       "2             3-4 Yrs                                 Mumbai (All Areas)  \n",
       "3             3-6 Yrs                                Bangalore/Bengaluru  \n",
       "4             1-4 Yrs                                Bangalore/Bengaluru  \n",
       "5             2-3 Yrs                                Bangalore/Bengaluru  \n",
       "6             2-3 Yrs                                Bangalore/Bengaluru  \n",
       "7             3-5 Yrs  Kolkata, Mumbai, New Delhi, Hyderabad/Secunder...  \n",
       "8             0-1 Yrs                Mumbai (All Areas)(Indira Nagar +1)  \n",
       "9             2-4 Yrs                                Bangalore/Bengaluru  "
      ]
     },
     "execution_count": 85,
     "metadata": {},
     "output_type": "execute_result"
    }
   ],
   "source": [
    "df=pd.DataFrame()\n",
    "df['title']=job_title\n",
    "df['company']=company_name\n",
    "df['experience_required']=experience_required\n",
    "df['location']=job_location\n",
    "df"
   ]
  },
  {
   "cell_type": "markdown",
   "id": "b5a93f79",
   "metadata": {},
   "source": [
    "# ****QUES2  You have to use the location and salary filter.\n",
    "You have to scrape data for “Data Scientist” designation for first 10 job results. \n",
    "You have to scrape the job-title, job-location, company name, experience required.\n",
    "The location filter to be used is “Delhi/NCR”. The salary filter to be used is “3-6” lakhs\n",
    "The task will be done as shown in the below steps:\n",
    "1. first get thewebpage https://www.naukri.com/\n",
    "2. Enter “Data Scientist” in “Skill, Designations, and Companies” field.\n",
    "3. Then click the searchbutton.\n",
    "4. Then apply the location filter and salary filter by checking the respective boxes\n",
    "5. Then scrape the data for the first 10 jobs results youget.\n",
    "6. Finally create a dataframe of the scraped data"
   ]
  },
  {
   "cell_type": "code",
   "execution_count": 68,
   "id": "de3a773c",
   "metadata": {},
   "outputs": [],
   "source": [
    "import selenium\n",
    "import pandas as pd\n",
    "from selenium import webdriver\n",
    "import warnings\n",
    "warnings.filterwarnings('ignore')\n",
    "from selenium.common.exceptions import StaleElementReferenceException, NoSuchElementException\n",
    "from selenium.webdriver.common.by import By\n",
    "import time"
   ]
  },
  {
   "cell_type": "code",
   "execution_count": 69,
   "id": "7efbe3c8",
   "metadata": {},
   "outputs": [],
   "source": [
    "driver= webdriver.Chrome(r\"C:\\Users\\Admin\\Downloads\\chromedriver.exe\")"
   ]
  },
  {
   "cell_type": "code",
   "execution_count": 70,
   "id": "c7352244",
   "metadata": {},
   "outputs": [],
   "source": [
    "driver.get(\"https://www.naukri.com/\")"
   ]
  },
  {
   "cell_type": "code",
   "execution_count": 71,
   "id": "7e0226b4",
   "metadata": {},
   "outputs": [],
   "source": [
    "designation = driver.find_element(By.CLASS_NAME,\"suggestor-input\")\n",
    "designation.send_keys('Data Scientist')"
   ]
  },
  {
   "cell_type": "code",
   "execution_count": 72,
   "id": "025c9479",
   "metadata": {},
   "outputs": [],
   "source": [
    "location=driver.find_element(By.XPATH,\"/html/body/div[1]/div[7]/div/div/div[5]/div/div/div/div[1]/div/input\")\n",
    "location.send_keys('Delhi/NCR')"
   ]
  },
  {
   "cell_type": "code",
   "execution_count": 73,
   "id": "3fafb9dc",
   "metadata": {},
   "outputs": [],
   "source": [
    "search=driver.find_element(By.CLASS_NAME,\"qsbSubmit\")\n",
    "search.click()"
   ]
  },
  {
   "cell_type": "code",
   "execution_count": 28,
   "id": "dd61b1b2",
   "metadata": {},
   "outputs": [],
   "source": [
    "job_title=[]\n",
    "job_location=[]\n",
    "company_name=[]\n",
    "experience_required=[]"
   ]
  },
  {
   "cell_type": "code",
   "execution_count": 29,
   "id": "587f0e3d",
   "metadata": {},
   "outputs": [],
   "source": [
    "title_tags=driver.find_elements(By.XPATH,'//a[@class=\"title ellipsis\"]')\n",
    "for i in title_tags[0:10]:\n",
    "    title=i.text\n",
    "    job_title.append(title)"
   ]
  },
  {
   "cell_type": "code",
   "execution_count": 30,
   "id": "4560420b",
   "metadata": {},
   "outputs": [],
   "source": [
    "location_tags=driver.find_elements(By.XPATH,'//span[@class=\"ellipsis fleft locWdth\"]')\n",
    "for i in location_tags[0:10]:\n",
    "    location=i.text\n",
    "    job_location.append(location)"
   ]
  },
  {
   "cell_type": "code",
   "execution_count": 31,
   "id": "c8fd9003",
   "metadata": {},
   "outputs": [],
   "source": [
    "company_tags=driver.find_elements(By.XPATH,'//a[@class=\"subTitle ellipsis fleft\"]')\n",
    "for i in company_tags[0:10]:\n",
    "    company=i.text\n",
    "    company_name.append(company)"
   ]
  },
  {
   "cell_type": "code",
   "execution_count": 32,
   "id": "b1436387",
   "metadata": {},
   "outputs": [],
   "source": [
    "experience_tags=driver.find_elements(By.XPATH,'//span[@class=\"ellipsis fleft expwdth\"]')\n",
    "for i in experience_tags[0:10]:\n",
    "    experience=i.text\n",
    "    experience_required.append(experience)"
   ]
  },
  {
   "cell_type": "code",
   "execution_count": 33,
   "id": "b9258735",
   "metadata": {},
   "outputs": [
    {
     "name": "stdout",
     "output_type": "stream",
     "text": [
      "10 10 10 10\n"
     ]
    }
   ],
   "source": [
    "print(len(job_title),len(job_location),len(company_name),len(experience_required))"
   ]
  },
  {
   "cell_type": "code",
   "execution_count": 15,
   "id": "0c331802",
   "metadata": {},
   "outputs": [],
   "source": [
    "import pandas as pd"
   ]
  },
  {
   "cell_type": "code",
   "execution_count": 16,
   "id": "70f29f54",
   "metadata": {},
   "outputs": [
    {
     "data": {
      "text/html": [
       "<div>\n",
       "<style scoped>\n",
       "    .dataframe tbody tr th:only-of-type {\n",
       "        vertical-align: middle;\n",
       "    }\n",
       "\n",
       "    .dataframe tbody tr th {\n",
       "        vertical-align: top;\n",
       "    }\n",
       "\n",
       "    .dataframe thead th {\n",
       "        text-align: right;\n",
       "    }\n",
       "</style>\n",
       "<table border=\"1\" class=\"dataframe\">\n",
       "  <thead>\n",
       "    <tr style=\"text-align: right;\">\n",
       "      <th></th>\n",
       "      <th>title</th>\n",
       "      <th>company</th>\n",
       "      <th>experience_required</th>\n",
       "      <th>location</th>\n",
       "    </tr>\n",
       "  </thead>\n",
       "  <tbody>\n",
       "    <tr>\n",
       "      <th>0</th>\n",
       "      <td>Data Science Professional - IBM SPSS Statistic...</td>\n",
       "      <td>Hexaware Technologies</td>\n",
       "      <td>5-8 Yrs</td>\n",
       "      <td>Noida, Mumbai, Pune, Chennai, Bangalore/Bengaluru</td>\n",
       "    </tr>\n",
       "    <tr>\n",
       "      <th>1</th>\n",
       "      <td>Senior data scientist</td>\n",
       "      <td>Fractal Analytics</td>\n",
       "      <td>4-8 Yrs</td>\n",
       "      <td>Mumbai, Pune, Chennai, Gurgaon/Gurugram, Banga...</td>\n",
       "    </tr>\n",
       "    <tr>\n",
       "      <th>2</th>\n",
       "      <td>Data Scientist_NLP</td>\n",
       "      <td>Fractal Analytics</td>\n",
       "      <td>5-11 Yrs</td>\n",
       "      <td>Mumbai, Pune, Chennai, Gurgaon/Gurugram, Banga...</td>\n",
       "    </tr>\n",
       "    <tr>\n",
       "      <th>3</th>\n",
       "      <td>Data Scientist</td>\n",
       "      <td>Fractal Analytics</td>\n",
       "      <td>3-7 Yrs</td>\n",
       "      <td>Mumbai, Pune, Chennai, Gurgaon/Gurugram, Banga...</td>\n",
       "    </tr>\n",
       "    <tr>\n",
       "      <th>4</th>\n",
       "      <td>Machine Learning (AI) Architect</td>\n",
       "      <td>Persistent</td>\n",
       "      <td>5-12 Yrs</td>\n",
       "      <td>Kolkata, Mumbai, New Delhi, Hyderabad/Secunder...</td>\n",
       "    </tr>\n",
       "    <tr>\n",
       "      <th>5</th>\n",
       "      <td>Data Scientist</td>\n",
       "      <td>Cognizant</td>\n",
       "      <td>6-10 Yrs</td>\n",
       "      <td>Temp. WFH - Kochi/Cochin, Kolkata, Hyderabad/S...</td>\n",
       "    </tr>\n",
       "    <tr>\n",
       "      <th>6</th>\n",
       "      <td>Data Scientist</td>\n",
       "      <td>Tech Mahindra</td>\n",
       "      <td>5-10 Yrs</td>\n",
       "      <td>Hyderabad/Secunderabad, Gurgaon/Gurugram, Bang...</td>\n",
       "    </tr>\n",
       "    <tr>\n",
       "      <th>7</th>\n",
       "      <td>Data Scientist</td>\n",
       "      <td>Fortuna Entertainment Group</td>\n",
       "      <td>5-8 Yrs</td>\n",
       "      <td>Kolkata, Mumbai, New Delhi, Hyderabad/Secunder...</td>\n",
       "    </tr>\n",
       "    <tr>\n",
       "      <th>8</th>\n",
       "      <td>Senior Data Scientist</td>\n",
       "      <td>Corporate Steps</td>\n",
       "      <td>5-10 Yrs</td>\n",
       "      <td>Kolkata, Mumbai, New Delhi, Hyderabad/Secunder...</td>\n",
       "    </tr>\n",
       "    <tr>\n",
       "      <th>9</th>\n",
       "      <td>Junior Data Scientist</td>\n",
       "      <td>Analytos</td>\n",
       "      <td>0-2 Yrs</td>\n",
       "      <td>Kolkata, Mumbai, New Delhi, Hyderabad/Secunder...</td>\n",
       "    </tr>\n",
       "  </tbody>\n",
       "</table>\n",
       "</div>"
      ],
      "text/plain": [
       "                                               title  \\\n",
       "0  Data Science Professional - IBM SPSS Statistic...   \n",
       "1                              Senior data scientist   \n",
       "2                                 Data Scientist_NLP   \n",
       "3                                     Data Scientist   \n",
       "4                    Machine Learning (AI) Architect   \n",
       "5                                     Data Scientist   \n",
       "6                                     Data Scientist   \n",
       "7                                     Data Scientist   \n",
       "8                              Senior Data Scientist   \n",
       "9                              Junior Data Scientist   \n",
       "\n",
       "                       company experience_required  \\\n",
       "0        Hexaware Technologies             5-8 Yrs   \n",
       "1            Fractal Analytics             4-8 Yrs   \n",
       "2            Fractal Analytics            5-11 Yrs   \n",
       "3            Fractal Analytics             3-7 Yrs   \n",
       "4                   Persistent            5-12 Yrs   \n",
       "5                    Cognizant            6-10 Yrs   \n",
       "6                Tech Mahindra            5-10 Yrs   \n",
       "7  Fortuna Entertainment Group             5-8 Yrs   \n",
       "8              Corporate Steps            5-10 Yrs   \n",
       "9                     Analytos             0-2 Yrs   \n",
       "\n",
       "                                            location  \n",
       "0  Noida, Mumbai, Pune, Chennai, Bangalore/Bengaluru  \n",
       "1  Mumbai, Pune, Chennai, Gurgaon/Gurugram, Banga...  \n",
       "2  Mumbai, Pune, Chennai, Gurgaon/Gurugram, Banga...  \n",
       "3  Mumbai, Pune, Chennai, Gurgaon/Gurugram, Banga...  \n",
       "4  Kolkata, Mumbai, New Delhi, Hyderabad/Secunder...  \n",
       "5  Temp. WFH - Kochi/Cochin, Kolkata, Hyderabad/S...  \n",
       "6  Hyderabad/Secunderabad, Gurgaon/Gurugram, Bang...  \n",
       "7  Kolkata, Mumbai, New Delhi, Hyderabad/Secunder...  \n",
       "8  Kolkata, Mumbai, New Delhi, Hyderabad/Secunder...  \n",
       "9  Kolkata, Mumbai, New Delhi, Hyderabad/Secunder...  "
      ]
     },
     "execution_count": 16,
     "metadata": {},
     "output_type": "execute_result"
    }
   ],
   "source": [
    "df=pd.DataFrame()\n",
    "df['title']=job_title\n",
    "df['company']=company_name\n",
    "df['experience_required']=experience_required\n",
    "df['location']=job_location\n",
    "df"
   ]
  },
  {
   "cell_type": "markdown",
   "id": "b288f8e4",
   "metadata": {},
   "source": [
    "# *****QUES3 .....   Scrape data of first 100 sunglasses listings on flipkart.com. You have to scrape four attributes:\n",
    "1. Brand\n",
    "2. ProductDescription\n",
    "3. PricE\n",
    "To scrape the data you have to go through following steps:\n",
    "1. Go to Flipkart webpage by url :https://www.flipkart.com/\n",
    "2. Enter “sunglasses” in the search field where “search for products, brands and more” is written and \n",
    "click the search icon\n",
    "3. After that you will reach to the page having a lot of sunglasses. From this page you can scrap the \n",
    "required data asusual.\n"
   ]
  },
  {
   "cell_type": "code",
   "execution_count": 87,
   "id": "ccfa63f9",
   "metadata": {},
   "outputs": [],
   "source": [
    "import selenium\n",
    "import pandas as pd\n",
    "from selenium import webdriver\n",
    "import warnings\n",
    "warnings.filterwarnings('ignore')\n",
    "from selenium.common.exceptions import StaleElementReferenceException, NoSuchElementException\n",
    "from selenium.webdriver.common.by import By\n",
    "import time"
   ]
  },
  {
   "cell_type": "code",
   "execution_count": 88,
   "id": "eb4fe2c2",
   "metadata": {},
   "outputs": [],
   "source": [
    "driver= webdriver.Chrome(r\"C:\\Users\\Admin\\Downloads\\chromedriver.exe\")"
   ]
  },
  {
   "cell_type": "code",
   "execution_count": 89,
   "id": "d89f820a",
   "metadata": {
    "scrolled": true
   },
   "outputs": [],
   "source": [
    "driver.get(\"https://www.flipkart.com/\")"
   ]
  },
  {
   "cell_type": "code",
   "execution_count": 90,
   "id": "b9320a76",
   "metadata": {},
   "outputs": [],
   "source": [
    "A_name= driver.find_element(By.CLASS_NAME,\"_3704LK\")\n",
    "A_name.send_keys('SunGlasses')"
   ]
  },
  {
   "cell_type": "code",
   "execution_count": 91,
   "id": "a10c3583",
   "metadata": {
    "scrolled": true
   },
   "outputs": [
    {
     "data": {
      "text/plain": [
       "[<selenium.webdriver.remote.webelement.WebElement (session=\"000d3c720877bf55cde7a7343a717025\", element=\"a9d2da27-5a8c-41e0-bff6-6849a0ddfe5a\")>]"
      ]
     },
     "execution_count": 91,
     "metadata": {},
     "output_type": "execute_result"
    }
   ],
   "source": [
    "search_btn=driver.find_elements(By.XPATH,'//button[@class=\"L0Z3Pu\"]')\n",
    "search_btn"
   ]
  },
  {
   "cell_type": "code",
   "execution_count": 92,
   "id": "fc1a5214",
   "metadata": {
    "scrolled": true
   },
   "outputs": [],
   "source": [
    "search_btn=driver.find_element(By.CLASS_NAME,\"L0Z3Pu\")\n",
    "search_btn.click()"
   ]
  },
  {
   "cell_type": "code",
   "execution_count": 93,
   "id": "9c4c5782",
   "metadata": {},
   "outputs": [],
   "source": [
    "product_p=[]\n",
    "brand_b=[]\n",
    "price_P=[]"
   ]
  },
  {
   "cell_type": "code",
   "execution_count": 94,
   "id": "7bd64af8",
   "metadata": {},
   "outputs": [],
   "source": [
    "p_tags=driver.find_elements(By.XPATH,'//div[@class=\"_2WkVRV\"]')\n",
    "for i in p_tags[0:30]:\n",
    "    p=i.text\n",
    "    product_p.append(p)"
   ]
  },
  {
   "cell_type": "code",
   "execution_count": 95,
   "id": "79afede5",
   "metadata": {},
   "outputs": [],
   "source": [
    "b_tags=driver.find_elements(By.XPATH,'//a[@class=\"IRpwTa\"]')\n",
    "for i in b_tags[0:30]:\n",
    "    b=i.text\n",
    "    brand_b.append(b)"
   ]
  },
  {
   "cell_type": "code",
   "execution_count": 96,
   "id": "ea0acd54",
   "metadata": {},
   "outputs": [],
   "source": [
    "P_tags=driver.find_elements(By.XPATH,'//div[@class=\"_25b18c\"]')\n",
    "for i in P_tags[0:30]:\n",
    "    P=i.text\n",
    "    price_P.append(P)"
   ]
  },
  {
   "cell_type": "code",
   "execution_count": 97,
   "id": "093ede8d",
   "metadata": {
    "scrolled": true
   },
   "outputs": [
    {
     "name": "stdout",
     "output_type": "stream",
     "text": [
      "30 30 30\n"
     ]
    }
   ],
   "source": [
    "print(len(product_p),len(brand_b),len(price_P))"
   ]
  },
  {
   "cell_type": "code",
   "execution_count": 98,
   "id": "6385e13b",
   "metadata": {},
   "outputs": [],
   "source": [
    "import pandas as pd"
   ]
  },
  {
   "cell_type": "code",
   "execution_count": 88,
   "id": "48fc1640",
   "metadata": {},
   "outputs": [
    {
     "data": {
      "text/html": [
       "<div>\n",
       "<style scoped>\n",
       "    .dataframe tbody tr th:only-of-type {\n",
       "        vertical-align: middle;\n",
       "    }\n",
       "\n",
       "    .dataframe tbody tr th {\n",
       "        vertical-align: top;\n",
       "    }\n",
       "\n",
       "    .dataframe thead th {\n",
       "        text-align: right;\n",
       "    }\n",
       "</style>\n",
       "<table border=\"1\" class=\"dataframe\">\n",
       "  <thead>\n",
       "    <tr style=\"text-align: right;\">\n",
       "      <th></th>\n",
       "      <th>Product</th>\n",
       "      <th>Brand</th>\n",
       "      <th>Price</th>\n",
       "    </tr>\n",
       "  </thead>\n",
       "  <tbody>\n",
       "    <tr>\n",
       "      <th>0</th>\n",
       "      <td>Dervin</td>\n",
       "      <td>UV Protection Wayfarer Sunglasses (Free Size)</td>\n",
       "      <td>₹234₹1,49984% off</td>\n",
       "    </tr>\n",
       "    <tr>\n",
       "      <th>1</th>\n",
       "      <td>Resist</td>\n",
       "      <td>Polarized Wayfarer Sunglasses (Free Size)</td>\n",
       "      <td>₹1,399₹3,99965% off</td>\n",
       "    </tr>\n",
       "    <tr>\n",
       "      <th>2</th>\n",
       "      <td>SYGA</td>\n",
       "      <td>UV Protection, Gradient Cat-eye Sunglasses (Fr...</td>\n",
       "      <td>₹199₹39950% off</td>\n",
       "    </tr>\n",
       "    <tr>\n",
       "      <th>3</th>\n",
       "      <td>Sundry</td>\n",
       "      <td>Gradient Retro Square Sunglasses (Free Size)</td>\n",
       "      <td>₹318₹1,49978% off</td>\n",
       "    </tr>\n",
       "    <tr>\n",
       "      <th>4</th>\n",
       "      <td>Deluxe</td>\n",
       "      <td>UV Protection Round Sunglasses (48)</td>\n",
       "      <td>₹199₹99980% off</td>\n",
       "    </tr>\n",
       "    <tr>\n",
       "      <th>5</th>\n",
       "      <td>DISNEY</td>\n",
       "      <td>Gradient, UV Protection Butterfly Sunglasses (...</td>\n",
       "      <td>₹337₹49932% off</td>\n",
       "    </tr>\n",
       "    <tr>\n",
       "      <th>6</th>\n",
       "      <td>Els</td>\n",
       "      <td>Mirrored, Night Vision Oval Sunglasses (Free S...</td>\n",
       "      <td>₹257₹79967% off</td>\n",
       "    </tr>\n",
       "    <tr>\n",
       "      <th>7</th>\n",
       "      <td>CRYSTAL CART</td>\n",
       "      <td>Gradient, UV Protection Butterfly Sunglasses (...</td>\n",
       "      <td>₹190₹59968% off</td>\n",
       "    </tr>\n",
       "    <tr>\n",
       "      <th>8</th>\n",
       "      <td>Els</td>\n",
       "      <td>Gradient, UV Protection Wayfarer Sunglasses (F...</td>\n",
       "      <td>₹257₹99574% off</td>\n",
       "    </tr>\n",
       "    <tr>\n",
       "      <th>9</th>\n",
       "      <td>Els</td>\n",
       "      <td>Gradient, UV Protection Cat-eye Sunglasses (Fr...</td>\n",
       "      <td>₹271₹99572% off</td>\n",
       "    </tr>\n",
       "    <tr>\n",
       "      <th>10</th>\n",
       "      <td>Els</td>\n",
       "      <td>Polarized, UV Protection, Gradient, Riding Gla...</td>\n",
       "      <td>₹293₹99570% off</td>\n",
       "    </tr>\n",
       "    <tr>\n",
       "      <th>11</th>\n",
       "      <td>CRYSTAL CART</td>\n",
       "      <td>Gradient, UV Protection Wayfarer Sunglasses (F...</td>\n",
       "      <td>₹311₹1,49979% off</td>\n",
       "    </tr>\n",
       "    <tr>\n",
       "      <th>12</th>\n",
       "      <td>Els</td>\n",
       "      <td>Gradient, UV Protection Butterfly Sunglasses (...</td>\n",
       "      <td>₹257₹99574% off</td>\n",
       "    </tr>\n",
       "    <tr>\n",
       "      <th>13</th>\n",
       "      <td>Els</td>\n",
       "      <td>Gradient, UV Protection Cat-eye Sunglasses (Fr...</td>\n",
       "      <td>₹271₹99572% off</td>\n",
       "    </tr>\n",
       "    <tr>\n",
       "      <th>14</th>\n",
       "      <td>Els</td>\n",
       "      <td>UV Protection Wayfarer Sunglasses (Free Size)</td>\n",
       "      <td>₹293₹79963% off</td>\n",
       "    </tr>\n",
       "    <tr>\n",
       "      <th>15</th>\n",
       "      <td>Dervin</td>\n",
       "      <td>Gradient, UV Protection Cat-eye Sunglasses (Fr...</td>\n",
       "      <td>₹216₹1,49985% off</td>\n",
       "    </tr>\n",
       "    <tr>\n",
       "      <th>16</th>\n",
       "      <td>Sundar Optical Collections</td>\n",
       "      <td>UV Protection Oval Sunglasses (44)</td>\n",
       "      <td>₹499₹2,26077% off</td>\n",
       "    </tr>\n",
       "    <tr>\n",
       "      <th>17</th>\n",
       "      <td>Els</td>\n",
       "      <td>UV Protection Wayfarer Sunglasses (55)</td>\n",
       "      <td>₹219₹79972% off</td>\n",
       "    </tr>\n",
       "    <tr>\n",
       "      <th>18</th>\n",
       "      <td>DISNEY</td>\n",
       "      <td>UV Protection, Gradient Cat-eye Sunglasses (45)</td>\n",
       "      <td>₹479₹59920% off</td>\n",
       "    </tr>\n",
       "    <tr>\n",
       "      <th>19</th>\n",
       "      <td>Dervin</td>\n",
       "      <td>UV Protection Over-sized Sunglasses (Free Size)</td>\n",
       "      <td>₹265₹2,49989% off</td>\n",
       "    </tr>\n",
       "    <tr>\n",
       "      <th>20</th>\n",
       "      <td>UZAK</td>\n",
       "      <td>Gradient, UV Protection Round Sunglasses (Free...</td>\n",
       "      <td>₹322₹69953% off</td>\n",
       "    </tr>\n",
       "    <tr>\n",
       "      <th>21</th>\n",
       "      <td>GLAND</td>\n",
       "      <td>Polarized, Riding Glasses, UV Protection Wayfa...</td>\n",
       "      <td>₹254₹1,19978% off</td>\n",
       "    </tr>\n",
       "    <tr>\n",
       "      <th>22</th>\n",
       "      <td>Els</td>\n",
       "      <td>Gradient, UV Protection Retro Square Sunglasse...</td>\n",
       "      <td>₹219₹79972% off</td>\n",
       "    </tr>\n",
       "    <tr>\n",
       "      <th>23</th>\n",
       "      <td>RESIST EYEWEAR</td>\n",
       "      <td>UV Protection Cat-eye Sunglasses (Free Size)</td>\n",
       "      <td>₹1,399₹4,99972% off</td>\n",
       "    </tr>\n",
       "    <tr>\n",
       "      <th>24</th>\n",
       "      <td>GLAND</td>\n",
       "      <td>UV Protection, Gradient Cat-eye Sunglasses (Fr...</td>\n",
       "      <td>₹254₹1,19978% off</td>\n",
       "    </tr>\n",
       "    <tr>\n",
       "      <th>25</th>\n",
       "      <td>GLAND</td>\n",
       "      <td>UV Protection, Gradient Round Sunglasses (Free...</td>\n",
       "      <td>₹254₹1,59984% off</td>\n",
       "    </tr>\n",
       "    <tr>\n",
       "      <th>26</th>\n",
       "      <td>GLAND</td>\n",
       "      <td>Others Cat-eye Sunglasses (50)</td>\n",
       "      <td>₹254₹1,19978% off</td>\n",
       "    </tr>\n",
       "    <tr>\n",
       "      <th>27</th>\n",
       "      <td>CRYSTAL CART</td>\n",
       "      <td>UV Protection Cat-eye Sunglasses (Free Size)</td>\n",
       "      <td>₹413₹1,99979% off</td>\n",
       "    </tr>\n",
       "    <tr>\n",
       "      <th>28</th>\n",
       "      <td>PIRASO</td>\n",
       "      <td>UV Protection, Mirrored, Gradient Wayfarer, Ro...</td>\n",
       "      <td>₹228₹1,59985% off</td>\n",
       "    </tr>\n",
       "    <tr>\n",
       "      <th>29</th>\n",
       "      <td>asadinn</td>\n",
       "      <td>UV Protection Round Sunglasses (50)</td>\n",
       "      <td>₹249₹79968% off</td>\n",
       "    </tr>\n",
       "  </tbody>\n",
       "</table>\n",
       "</div>"
      ],
      "text/plain": [
       "                       Product  \\\n",
       "0                       Dervin   \n",
       "1                       Resist   \n",
       "2                         SYGA   \n",
       "3                       Sundry   \n",
       "4                       Deluxe   \n",
       "5                       DISNEY   \n",
       "6                          Els   \n",
       "7                 CRYSTAL CART   \n",
       "8                          Els   \n",
       "9                          Els   \n",
       "10                         Els   \n",
       "11                CRYSTAL CART   \n",
       "12                         Els   \n",
       "13                         Els   \n",
       "14                         Els   \n",
       "15                      Dervin   \n",
       "16  Sundar Optical Collections   \n",
       "17                         Els   \n",
       "18                      DISNEY   \n",
       "19                      Dervin   \n",
       "20                        UZAK   \n",
       "21                       GLAND   \n",
       "22                         Els   \n",
       "23              RESIST EYEWEAR   \n",
       "24                       GLAND   \n",
       "25                       GLAND   \n",
       "26                       GLAND   \n",
       "27                CRYSTAL CART   \n",
       "28                      PIRASO   \n",
       "29                     asadinn   \n",
       "\n",
       "                                                Brand                Price  \n",
       "0       UV Protection Wayfarer Sunglasses (Free Size)    ₹234₹1,49984% off  \n",
       "1           Polarized Wayfarer Sunglasses (Free Size)  ₹1,399₹3,99965% off  \n",
       "2   UV Protection, Gradient Cat-eye Sunglasses (Fr...      ₹199₹39950% off  \n",
       "3        Gradient Retro Square Sunglasses (Free Size)    ₹318₹1,49978% off  \n",
       "4                 UV Protection Round Sunglasses (48)      ₹199₹99980% off  \n",
       "5   Gradient, UV Protection Butterfly Sunglasses (...      ₹337₹49932% off  \n",
       "6   Mirrored, Night Vision Oval Sunglasses (Free S...      ₹257₹79967% off  \n",
       "7   Gradient, UV Protection Butterfly Sunglasses (...      ₹190₹59968% off  \n",
       "8   Gradient, UV Protection Wayfarer Sunglasses (F...      ₹257₹99574% off  \n",
       "9   Gradient, UV Protection Cat-eye Sunglasses (Fr...      ₹271₹99572% off  \n",
       "10  Polarized, UV Protection, Gradient, Riding Gla...      ₹293₹99570% off  \n",
       "11  Gradient, UV Protection Wayfarer Sunglasses (F...    ₹311₹1,49979% off  \n",
       "12  Gradient, UV Protection Butterfly Sunglasses (...      ₹257₹99574% off  \n",
       "13  Gradient, UV Protection Cat-eye Sunglasses (Fr...      ₹271₹99572% off  \n",
       "14      UV Protection Wayfarer Sunglasses (Free Size)      ₹293₹79963% off  \n",
       "15  Gradient, UV Protection Cat-eye Sunglasses (Fr...    ₹216₹1,49985% off  \n",
       "16                 UV Protection Oval Sunglasses (44)    ₹499₹2,26077% off  \n",
       "17             UV Protection Wayfarer Sunglasses (55)      ₹219₹79972% off  \n",
       "18    UV Protection, Gradient Cat-eye Sunglasses (45)      ₹479₹59920% off  \n",
       "19    UV Protection Over-sized Sunglasses (Free Size)    ₹265₹2,49989% off  \n",
       "20  Gradient, UV Protection Round Sunglasses (Free...      ₹322₹69953% off  \n",
       "21  Polarized, Riding Glasses, UV Protection Wayfa...    ₹254₹1,19978% off  \n",
       "22  Gradient, UV Protection Retro Square Sunglasse...      ₹219₹79972% off  \n",
       "23       UV Protection Cat-eye Sunglasses (Free Size)  ₹1,399₹4,99972% off  \n",
       "24  UV Protection, Gradient Cat-eye Sunglasses (Fr...    ₹254₹1,19978% off  \n",
       "25  UV Protection, Gradient Round Sunglasses (Free...    ₹254₹1,59984% off  \n",
       "26                     Others Cat-eye Sunglasses (50)    ₹254₹1,19978% off  \n",
       "27       UV Protection Cat-eye Sunglasses (Free Size)    ₹413₹1,99979% off  \n",
       "28  UV Protection, Mirrored, Gradient Wayfarer, Ro...    ₹228₹1,59985% off  \n",
       "29                UV Protection Round Sunglasses (50)      ₹249₹79968% off  "
      ]
     },
     "execution_count": 88,
     "metadata": {},
     "output_type": "execute_result"
    }
   ],
   "source": [
    "df=pd.DataFrame()\n",
    "df['Product']=product_p\n",
    "df['Brand']=brand_b\n",
    "df['Price']= price_P\n",
    "df"
   ]
  },
  {
   "cell_type": "markdown",
   "id": "b119c3ad",
   "metadata": {},
   "source": [
    "# ***QUES4  Scrape 100 reviews data from flipkart.com for iphone11 phone. You have to go the link: \n",
    "https://www.flipkart.com/apple-iphone-11-black-64-gb/product\u0002reviews/itm4e5041ba101fd?pid=MOBFWQ6BXGJCEYNY&lid=LSTMOBFWQ6BXGJCEYNYZXSHRJ&market \n",
    "place=FLIPKART\n",
    "As shown in the above page you have to scrape the tick marked attributes. These are:\n",
    "1. Rating\n",
    "2. Review summary\n",
    "3. Full review\n",
    "4. You have to scrape this data for first 100reviews"
   ]
  },
  {
   "cell_type": "code",
   "execution_count": 224,
   "id": "f127c89d",
   "metadata": {},
   "outputs": [],
   "source": [
    "import selenium\n",
    "import pandas as pd\n",
    "from selenium import webdriver\n",
    "import warnings\n",
    "warnings.filterwarnings('ignore')\n",
    "from selenium.common.exceptions import StaleElementReferenceException, NoSuchElementException\n",
    "from selenium.webdriver.common.by import By\n",
    "import time"
   ]
  },
  {
   "cell_type": "code",
   "execution_count": 225,
   "id": "d3aa84cf",
   "metadata": {},
   "outputs": [],
   "source": [
    "driver= webdriver.Chrome(r\"C:\\Users\\Admin\\Downloads\\chromedriver.exe\")"
   ]
  },
  {
   "cell_type": "code",
   "execution_count": 226,
   "id": "29b38a8e",
   "metadata": {},
   "outputs": [],
   "source": [
    "driver.get(\"https://www.flipkart.com/\")"
   ]
  },
  {
   "cell_type": "code",
   "execution_count": 227,
   "id": "470871fe",
   "metadata": {},
   "outputs": [],
   "source": [
    "A_name= driver.find_element(By.CLASS_NAME,\"_3704LK\")\n",
    "A_name.send_keys('IPHONE-11')"
   ]
  },
  {
   "cell_type": "code",
   "execution_count": 228,
   "id": "9125df18",
   "metadata": {},
   "outputs": [
    {
     "data": {
      "text/plain": [
       "[<selenium.webdriver.remote.webelement.WebElement (session=\"a4de2bd6f96db784198958db7ef7c6ad\", element=\"00b22f2a-066c-4fa8-9911-d330714ac89b\")>]"
      ]
     },
     "execution_count": 228,
     "metadata": {},
     "output_type": "execute_result"
    }
   ],
   "source": [
    "search_btn=driver.find_elements(By.XPATH,'//button[@class=\"L0Z3Pu\"]')\n",
    "search_btn"
   ]
  },
  {
   "cell_type": "code",
   "execution_count": 229,
   "id": "5bc24f47",
   "metadata": {
    "scrolled": true
   },
   "outputs": [],
   "source": [
    "search_btn=driver.find_element(By.CLASS_NAME,\"L0Z3Pu\")\n",
    "search_btn.click()"
   ]
  },
  {
   "cell_type": "code",
   "execution_count": 230,
   "id": "20e6d655",
   "metadata": {},
   "outputs": [],
   "source": [
    "product_p=[]\n",
    "rating_r=[]\n",
    "review_R=[]\n",
    "\n"
   ]
  },
  {
   "cell_type": "code",
   "execution_count": 231,
   "id": "684fec2a",
   "metadata": {},
   "outputs": [],
   "source": [
    "p_tags=driver.find_elements(By.XPATH,'//div[@class=\"_4rR01T\"]')\n",
    "for i in p_tags[0:20]:\n",
    "    p=i.text\n",
    "    product_p.append(p)"
   ]
  },
  {
   "cell_type": "code",
   "execution_count": 232,
   "id": "94bb91e8",
   "metadata": {},
   "outputs": [],
   "source": [
    "r_tags=driver.find_elements(By.XPATH,'//div[@class=\"_3LWZlK\"]')\n",
    "for i in r_tags[0:20]:\n",
    "    r=i.text\n",
    "    rating_r.append(r)"
   ]
  },
  {
   "cell_type": "code",
   "execution_count": 233,
   "id": "a03d843d",
   "metadata": {},
   "outputs": [],
   "source": [
    "R_tags=driver.find_elements(By.XPATH,'//span[@class=\"_2_R_DZ\"]')\n",
    "for i in R_tags[0:20]:\n",
    "    R=i.text\n",
    "    review_R.append(R)"
   ]
  },
  {
   "cell_type": "code",
   "execution_count": 234,
   "id": "e95e4921",
   "metadata": {},
   "outputs": [],
   "source": [
    "import pandas as pd"
   ]
  },
  {
   "cell_type": "code",
   "execution_count": 235,
   "id": "d66d60d8",
   "metadata": {},
   "outputs": [
    {
     "data": {
      "text/html": [
       "<div>\n",
       "<style scoped>\n",
       "    .dataframe tbody tr th:only-of-type {\n",
       "        vertical-align: middle;\n",
       "    }\n",
       "\n",
       "    .dataframe tbody tr th {\n",
       "        vertical-align: top;\n",
       "    }\n",
       "\n",
       "    .dataframe thead th {\n",
       "        text-align: right;\n",
       "    }\n",
       "</style>\n",
       "<table border=\"1\" class=\"dataframe\">\n",
       "  <thead>\n",
       "    <tr style=\"text-align: right;\">\n",
       "      <th></th>\n",
       "      <th>Product</th>\n",
       "      <th>Rating</th>\n",
       "      <th>Review</th>\n",
       "    </tr>\n",
       "  </thead>\n",
       "  <tbody>\n",
       "    <tr>\n",
       "      <th>0</th>\n",
       "      <td>APPLE iPhone 11 (Black, 128 GB)</td>\n",
       "      <td>4.6</td>\n",
       "      <td>1,89,523 Ratings &amp; 11,027 Reviews</td>\n",
       "    </tr>\n",
       "    <tr>\n",
       "      <th>1</th>\n",
       "      <td>APPLE iPhone 11 (Black, 64 GB)</td>\n",
       "      <td>4.6</td>\n",
       "      <td>1,89,523 Ratings &amp; 11,027 Reviews</td>\n",
       "    </tr>\n",
       "    <tr>\n",
       "      <th>2</th>\n",
       "      <td>APPLE iPhone 11 (White, 64 GB)</td>\n",
       "      <td>4.6</td>\n",
       "      <td>1,89,523 Ratings &amp; 11,027 Reviews</td>\n",
       "    </tr>\n",
       "    <tr>\n",
       "      <th>3</th>\n",
       "      <td>APPLE iPhone 11 (Red, 128 GB)</td>\n",
       "      <td>4.6</td>\n",
       "      <td>1,89,523 Ratings &amp; 11,027 Reviews</td>\n",
       "    </tr>\n",
       "    <tr>\n",
       "      <th>4</th>\n",
       "      <td>APPLE iPhone 11 (White, 128 GB)</td>\n",
       "      <td>4.6</td>\n",
       "      <td>1,89,523 Ratings &amp; 11,027 Reviews</td>\n",
       "    </tr>\n",
       "    <tr>\n",
       "      <th>5</th>\n",
       "      <td>APPLE iPhone 11 (Red, 64 GB)</td>\n",
       "      <td>4.6</td>\n",
       "      <td>1,89,523 Ratings &amp; 11,027 Reviews</td>\n",
       "    </tr>\n",
       "    <tr>\n",
       "      <th>6</th>\n",
       "      <td>APPLE iPhone 11 (Green, 128 GB)</td>\n",
       "      <td>4.6</td>\n",
       "      <td>1,89,523 Ratings &amp; 11,027 Reviews</td>\n",
       "    </tr>\n",
       "    <tr>\n",
       "      <th>7</th>\n",
       "      <td>APPLE iPhone 11 (Purple, 128 GB)</td>\n",
       "      <td>4.6</td>\n",
       "      <td>1,89,523 Ratings &amp; 11,027 Reviews</td>\n",
       "    </tr>\n",
       "    <tr>\n",
       "      <th>8</th>\n",
       "      <td>APPLE iPhone 11 (Green, 64 GB)</td>\n",
       "      <td>4.6</td>\n",
       "      <td>1,89,523 Ratings &amp; 11,027 Reviews</td>\n",
       "    </tr>\n",
       "    <tr>\n",
       "      <th>9</th>\n",
       "      <td>APPLE iPhone 11 (Yellow, 64 GB)</td>\n",
       "      <td>4.6</td>\n",
       "      <td>1,89,523 Ratings &amp; 11,027 Reviews</td>\n",
       "    </tr>\n",
       "    <tr>\n",
       "      <th>10</th>\n",
       "      <td>APPLE iPhone 11 (Purple, 64 GB)</td>\n",
       "      <td>4.6</td>\n",
       "      <td>1,89,523 Ratings &amp; 11,027 Reviews</td>\n",
       "    </tr>\n",
       "    <tr>\n",
       "      <th>11</th>\n",
       "      <td>APPLE iPhone 11 (Yellow, 128 GB)</td>\n",
       "      <td>4.6</td>\n",
       "      <td>1,89,523 Ratings &amp; 11,027 Reviews</td>\n",
       "    </tr>\n",
       "    <tr>\n",
       "      <th>12</th>\n",
       "      <td>APPLE iPhone 6 (Silver, 16 GB)</td>\n",
       "      <td>4.4</td>\n",
       "      <td>1,45,536 Ratings &amp; 16,240 Reviews</td>\n",
       "    </tr>\n",
       "    <tr>\n",
       "      <th>13</th>\n",
       "      <td>APPLE iPhone 11 Pro Max (Midnight Green, 64 GB)</td>\n",
       "      <td>4.7</td>\n",
       "      <td>1,097 Ratings &amp; 100 Reviews</td>\n",
       "    </tr>\n",
       "    <tr>\n",
       "      <th>14</th>\n",
       "      <td>APPLE iPhone 11 Pro Max (Space Grey, 64 GB)</td>\n",
       "      <td>4.7</td>\n",
       "      <td>1,097 Ratings &amp; 100 Reviews</td>\n",
       "    </tr>\n",
       "    <tr>\n",
       "      <th>15</th>\n",
       "      <td>APPLE iPhone 11 Pro (Midnight Green, 64 GB)</td>\n",
       "      <td>4.6</td>\n",
       "      <td>8,665 Ratings &amp; 628 Reviews</td>\n",
       "    </tr>\n",
       "    <tr>\n",
       "      <th>16</th>\n",
       "      <td>APPLE iPhone 11 Pro (Space Grey, 256 GB)</td>\n",
       "      <td>4.6</td>\n",
       "      <td>8,665 Ratings &amp; 628 Reviews</td>\n",
       "    </tr>\n",
       "    <tr>\n",
       "      <th>17</th>\n",
       "      <td>APPLE iPhone 11 Pro Max (Gold, 64 GB)</td>\n",
       "      <td>4.7</td>\n",
       "      <td>1,097 Ratings &amp; 100 Reviews</td>\n",
       "    </tr>\n",
       "    <tr>\n",
       "      <th>18</th>\n",
       "      <td>APPLE iPhone 11 Pro (Gold, 512 GB)</td>\n",
       "      <td>4.6</td>\n",
       "      <td>8,665 Ratings &amp; 628 Reviews</td>\n",
       "    </tr>\n",
       "    <tr>\n",
       "      <th>19</th>\n",
       "      <td>APPLE iPhone 11 Pro (Silver, 512 GB)</td>\n",
       "      <td>4.6</td>\n",
       "      <td>8,665 Ratings &amp; 628 Reviews</td>\n",
       "    </tr>\n",
       "  </tbody>\n",
       "</table>\n",
       "</div>"
      ],
      "text/plain": [
       "                                            Product Rating  \\\n",
       "0                   APPLE iPhone 11 (Black, 128 GB)    4.6   \n",
       "1                    APPLE iPhone 11 (Black, 64 GB)    4.6   \n",
       "2                    APPLE iPhone 11 (White, 64 GB)    4.6   \n",
       "3                     APPLE iPhone 11 (Red, 128 GB)    4.6   \n",
       "4                   APPLE iPhone 11 (White, 128 GB)    4.6   \n",
       "5                      APPLE iPhone 11 (Red, 64 GB)    4.6   \n",
       "6                   APPLE iPhone 11 (Green, 128 GB)    4.6   \n",
       "7                  APPLE iPhone 11 (Purple, 128 GB)    4.6   \n",
       "8                    APPLE iPhone 11 (Green, 64 GB)    4.6   \n",
       "9                   APPLE iPhone 11 (Yellow, 64 GB)    4.6   \n",
       "10                  APPLE iPhone 11 (Purple, 64 GB)    4.6   \n",
       "11                 APPLE iPhone 11 (Yellow, 128 GB)    4.6   \n",
       "12                   APPLE iPhone 6 (Silver, 16 GB)    4.4   \n",
       "13  APPLE iPhone 11 Pro Max (Midnight Green, 64 GB)    4.7   \n",
       "14      APPLE iPhone 11 Pro Max (Space Grey, 64 GB)    4.7   \n",
       "15      APPLE iPhone 11 Pro (Midnight Green, 64 GB)    4.6   \n",
       "16         APPLE iPhone 11 Pro (Space Grey, 256 GB)    4.6   \n",
       "17            APPLE iPhone 11 Pro Max (Gold, 64 GB)    4.7   \n",
       "18               APPLE iPhone 11 Pro (Gold, 512 GB)    4.6   \n",
       "19             APPLE iPhone 11 Pro (Silver, 512 GB)    4.6   \n",
       "\n",
       "                               Review  \n",
       "0   1,89,523 Ratings & 11,027 Reviews  \n",
       "1   1,89,523 Ratings & 11,027 Reviews  \n",
       "2   1,89,523 Ratings & 11,027 Reviews  \n",
       "3   1,89,523 Ratings & 11,027 Reviews  \n",
       "4   1,89,523 Ratings & 11,027 Reviews  \n",
       "5   1,89,523 Ratings & 11,027 Reviews  \n",
       "6   1,89,523 Ratings & 11,027 Reviews  \n",
       "7   1,89,523 Ratings & 11,027 Reviews  \n",
       "8   1,89,523 Ratings & 11,027 Reviews  \n",
       "9   1,89,523 Ratings & 11,027 Reviews  \n",
       "10  1,89,523 Ratings & 11,027 Reviews  \n",
       "11  1,89,523 Ratings & 11,027 Reviews  \n",
       "12  1,45,536 Ratings & 16,240 Reviews  \n",
       "13        1,097 Ratings & 100 Reviews  \n",
       "14        1,097 Ratings & 100 Reviews  \n",
       "15        8,665 Ratings & 628 Reviews  \n",
       "16        8,665 Ratings & 628 Reviews  \n",
       "17        1,097 Ratings & 100 Reviews  \n",
       "18        8,665 Ratings & 628 Reviews  \n",
       "19        8,665 Ratings & 628 Reviews  "
      ]
     },
     "execution_count": 235,
     "metadata": {},
     "output_type": "execute_result"
    }
   ],
   "source": [
    "df=pd.DataFrame()\n",
    "df['Product']=product_p\n",
    "df['Rating']=rating_r\n",
    "df['Review']= review_R\n",
    "df"
   ]
  },
  {
   "cell_type": "markdown",
   "id": "5ad1e1bb",
   "metadata": {},
   "source": [
    "# ****QUES5..... Scrape data for first 100 sneakers you find when you visit flipkart.com and search for “sneakers” in the \n",
    "search field.\n",
    "You have to scrape 3 attributes of each sneaker:\n",
    "1. Brand\n",
    "2. ProductDescription\n",
    "3. PRICE"
   ]
  },
  {
   "cell_type": "code",
   "execution_count": 181,
   "id": "452a46bf",
   "metadata": {},
   "outputs": [],
   "source": [
    "import selenium\n",
    "import pandas as pd\n",
    "from selenium import webdriver\n",
    "import warnings\n",
    "warnings.filterwarnings('ignore')\n",
    "from selenium.common.exceptions import StaleElementReferenceException, NoSuchElementException\n",
    "from selenium.webdriver.common.by import By\n",
    "import time"
   ]
  },
  {
   "cell_type": "code",
   "execution_count": 171,
   "id": "e5bab001",
   "metadata": {},
   "outputs": [],
   "source": [
    "driver= webdriver.Chrome(r\"C:\\Users\\Admin\\Downloads\\chromedriver.exe\")"
   ]
  },
  {
   "cell_type": "code",
   "execution_count": 172,
   "id": "5d33d25c",
   "metadata": {},
   "outputs": [],
   "source": [
    "driver.get(\"https://www.flipkart.com/\")"
   ]
  },
  {
   "cell_type": "code",
   "execution_count": 173,
   "id": "5af88e9b",
   "metadata": {},
   "outputs": [],
   "source": [
    "A_name= driver.find_element(By.CLASS_NAME,\"_3704LK\")\n",
    "A_name.send_keys('Sneakers')"
   ]
  },
  {
   "cell_type": "code",
   "execution_count": 174,
   "id": "efa51ede",
   "metadata": {},
   "outputs": [
    {
     "data": {
      "text/plain": [
       "[<selenium.webdriver.remote.webelement.WebElement (session=\"a586067ea591daa6306404f7b5b259c0\", element=\"3a838ef9-57cc-4003-b12c-beb282e1837e\")>]"
      ]
     },
     "execution_count": 174,
     "metadata": {},
     "output_type": "execute_result"
    }
   ],
   "source": [
    "search_btn=driver.find_elements(By.XPATH,'//button[@class=\"L0Z3Pu\"]')\n",
    "search_btn"
   ]
  },
  {
   "cell_type": "code",
   "execution_count": 175,
   "id": "708d24f1",
   "metadata": {},
   "outputs": [],
   "source": [
    "search_btn=driver.find_element(By.CLASS_NAME,\"L0Z3Pu\")\n",
    "search_btn.click()"
   ]
  },
  {
   "cell_type": "code",
   "execution_count": 176,
   "id": "26350784",
   "metadata": {},
   "outputs": [],
   "source": [
    "product_p=[]\n",
    "brand_b=[]\n",
    "price_P=[]"
   ]
  },
  {
   "cell_type": "code",
   "execution_count": 177,
   "id": "c5280703",
   "metadata": {},
   "outputs": [],
   "source": [
    "p_tags=driver.find_elements(By.XPATH,'//div[@class=\"_2WkVRV\"]')\n",
    "for i in p_tags[0:30]:\n",
    "    p=i.text\n",
    "    product_p.append(p)"
   ]
  },
  {
   "cell_type": "code",
   "execution_count": 178,
   "id": "1a34abfc",
   "metadata": {},
   "outputs": [],
   "source": [
    "b_tags=driver.find_elements(By.XPATH,'//a[@class=\"IRpwTa\"]')\n",
    "for i in b_tags[0:30]:\n",
    "    b=i.text\n",
    "    brand_b.append(b)"
   ]
  },
  {
   "cell_type": "code",
   "execution_count": 179,
   "id": "4e2690b2",
   "metadata": {},
   "outputs": [],
   "source": [
    "P_tags=driver.find_elements(By.XPATH,'//div[@class=\"_25b18c\"]')\n",
    "for i in P_tags[0:30]:\n",
    "    P=i.text\n",
    "    price_P.append(P)"
   ]
  },
  {
   "cell_type": "code",
   "execution_count": 180,
   "id": "d1d0601c",
   "metadata": {},
   "outputs": [
    {
     "data": {
      "text/html": [
       "<div>\n",
       "<style scoped>\n",
       "    .dataframe tbody tr th:only-of-type {\n",
       "        vertical-align: middle;\n",
       "    }\n",
       "\n",
       "    .dataframe tbody tr th {\n",
       "        vertical-align: top;\n",
       "    }\n",
       "\n",
       "    .dataframe thead th {\n",
       "        text-align: right;\n",
       "    }\n",
       "</style>\n",
       "<table border=\"1\" class=\"dataframe\">\n",
       "  <thead>\n",
       "    <tr style=\"text-align: right;\">\n",
       "      <th></th>\n",
       "      <th>Product</th>\n",
       "      <th>Brand</th>\n",
       "      <th>Price</th>\n",
       "    </tr>\n",
       "  </thead>\n",
       "  <tbody>\n",
       "    <tr>\n",
       "      <th>0</th>\n",
       "      <td>GVR</td>\n",
       "      <td>TRENDY SNEAKERS FROM GVR FOR MEN Sneakers For Men</td>\n",
       "      <td>₹629₹2,09970% off</td>\n",
       "    </tr>\n",
       "    <tr>\n",
       "      <th>1</th>\n",
       "      <td>RapidBox</td>\n",
       "      <td>Sneakers For Men</td>\n",
       "      <td>₹571₹99942% off</td>\n",
       "    </tr>\n",
       "    <tr>\n",
       "      <th>2</th>\n",
       "      <td>SFR</td>\n",
       "      <td>2006 Trenddy Fashion Sporty Casuals Sneakers R...</td>\n",
       "      <td>₹299₹71558% off</td>\n",
       "    </tr>\n",
       "    <tr>\n",
       "      <th>3</th>\n",
       "      <td>aadi</td>\n",
       "      <td>Synthetic Leather |Lightweight|Comfort|Summer|...</td>\n",
       "      <td>₹399₹99960% off</td>\n",
       "    </tr>\n",
       "    <tr>\n",
       "      <th>4</th>\n",
       "      <td>BIRDE</td>\n",
       "      <td>Combo Pack Of 2 Casual Shoes Sneakers For Men</td>\n",
       "      <td>₹499₹99950% off</td>\n",
       "    </tr>\n",
       "    <tr>\n",
       "      <th>5</th>\n",
       "      <td>AMICO</td>\n",
       "      <td>Sneakers For Men</td>\n",
       "      <td>₹387₹1,07864% off</td>\n",
       "    </tr>\n",
       "    <tr>\n",
       "      <th>6</th>\n",
       "      <td>BIRDE</td>\n",
       "      <td>Combo Pack of 2 Sports Sneakers For Men</td>\n",
       "      <td>₹499₹1,49866% off</td>\n",
       "    </tr>\n",
       "    <tr>\n",
       "      <th>7</th>\n",
       "      <td>RapidBox</td>\n",
       "      <td>Sneakers For Men</td>\n",
       "      <td>₹571₹99942% off</td>\n",
       "    </tr>\n",
       "    <tr>\n",
       "      <th>8</th>\n",
       "      <td>Labbin</td>\n",
       "      <td>Sneakers For Men</td>\n",
       "      <td>₹379₹1,31071% off</td>\n",
       "    </tr>\n",
       "    <tr>\n",
       "      <th>9</th>\n",
       "      <td>BIRDE</td>\n",
       "      <td>Combo Pack of 2 Casual Shoes Sneakers For Men</td>\n",
       "      <td>₹499₹1,99875% off</td>\n",
       "    </tr>\n",
       "    <tr>\n",
       "      <th>10</th>\n",
       "      <td>RapidBox</td>\n",
       "      <td>Sneakers For Men</td>\n",
       "      <td>₹571₹99942% off</td>\n",
       "    </tr>\n",
       "    <tr>\n",
       "      <th>11</th>\n",
       "      <td>BRUTON</td>\n",
       "      <td>Combo Pack Of 2 Casual Shoes Sneakers For Men ...</td>\n",
       "      <td>₹499₹2,49980% off</td>\n",
       "    </tr>\n",
       "    <tr>\n",
       "      <th>12</th>\n",
       "      <td>Kraasa</td>\n",
       "      <td>Sneakers For Women</td>\n",
       "      <td>₹299₹99970% off</td>\n",
       "    </tr>\n",
       "    <tr>\n",
       "      <th>13</th>\n",
       "      <td>BIRDE</td>\n",
       "      <td>Premium Sports Shoes For Men Pack Of 2 Sneaker...</td>\n",
       "      <td>₹499₹1,99875% off</td>\n",
       "    </tr>\n",
       "    <tr>\n",
       "      <th>14</th>\n",
       "      <td>BIRDE</td>\n",
       "      <td>Combo Pack of 2 Casual Shoe Sneakers For Men</td>\n",
       "      <td>₹499₹99850% off</td>\n",
       "    </tr>\n",
       "    <tr>\n",
       "      <th>15</th>\n",
       "      <td>aadi</td>\n",
       "      <td>Synthetic| Lightweight| Premiun| Comfort| Summ...</td>\n",
       "      <td>₹349₹1,99982% off</td>\n",
       "    </tr>\n",
       "    <tr>\n",
       "      <th>16</th>\n",
       "      <td>BRUTON</td>\n",
       "      <td>Combo Pack Of 2 Casual Shoes Sneakers For Men</td>\n",
       "      <td>₹599₹2,49976% off</td>\n",
       "    </tr>\n",
       "    <tr>\n",
       "      <th>17</th>\n",
       "      <td>Kraasa</td>\n",
       "      <td>Classic Sneakers For Men</td>\n",
       "      <td>₹599₹99940% off</td>\n",
       "    </tr>\n",
       "    <tr>\n",
       "      <th>18</th>\n",
       "      <td>aadi</td>\n",
       "      <td>Sneakers For Men</td>\n",
       "      <td>₹349₹1,99982% off</td>\n",
       "    </tr>\n",
       "    <tr>\n",
       "      <th>19</th>\n",
       "      <td>Magnolia</td>\n",
       "      <td>Modern Trendy Sneakers boot Sneakers Sneakers ...</td>\n",
       "      <td>₹399₹1,29969% off</td>\n",
       "    </tr>\n",
       "    <tr>\n",
       "      <th>20</th>\n",
       "      <td>New Balance</td>\n",
       "      <td>237 Sneakers For Men</td>\n",
       "      <td>₹8,799₹10,99920% off</td>\n",
       "    </tr>\n",
       "    <tr>\n",
       "      <th>21</th>\n",
       "      <td>BERSACHE</td>\n",
       "      <td>Trendy Color Changing Casual Shoes| Walking,Gy...</td>\n",
       "      <td>₹698₹4,99986% off</td>\n",
       "    </tr>\n",
       "    <tr>\n",
       "      <th>22</th>\n",
       "      <td>Magnolia</td>\n",
       "      <td>Sneakers For Men</td>\n",
       "      <td>₹449₹1,29965% off</td>\n",
       "    </tr>\n",
       "    <tr>\n",
       "      <th>23</th>\n",
       "      <td>RED TAPE</td>\n",
       "      <td>Sneakers For Men</td>\n",
       "      <td>₹1,517₹6,89978% off</td>\n",
       "    </tr>\n",
       "    <tr>\n",
       "      <th>24</th>\n",
       "      <td>EZDEZARIO</td>\n",
       "      <td>Sneakers For Men</td>\n",
       "      <td>₹429₹99957% off</td>\n",
       "    </tr>\n",
       "    <tr>\n",
       "      <th>25</th>\n",
       "      <td>Shozie</td>\n",
       "      <td>Stylish Sneakers Shoes for Women And Girls Sne...</td>\n",
       "      <td>₹499₹99950% off</td>\n",
       "    </tr>\n",
       "    <tr>\n",
       "      <th>26</th>\n",
       "      <td>BRUTON</td>\n",
       "      <td>Combo Pack Of 2 Casual Shoes Sneakers For Men</td>\n",
       "      <td>₹499₹2,49980% off</td>\n",
       "    </tr>\n",
       "    <tr>\n",
       "      <th>27</th>\n",
       "      <td>bacca bucci</td>\n",
       "      <td>JUPITER Men's Retro Color Blocked Light Weight...</td>\n",
       "      <td>₹1,499₹2,99950% off</td>\n",
       "    </tr>\n",
       "    <tr>\n",
       "      <th>28</th>\n",
       "      <td>AMICO</td>\n",
       "      <td>Sneakers For Men</td>\n",
       "      <td>₹549₹1,07849% off</td>\n",
       "    </tr>\n",
       "    <tr>\n",
       "      <th>29</th>\n",
       "      <td>World Wear Footwear</td>\n",
       "      <td>Latest Exclusive Affordable Collection of Tren...</td>\n",
       "      <td>₹279₹1,99986% off</td>\n",
       "    </tr>\n",
       "  </tbody>\n",
       "</table>\n",
       "</div>"
      ],
      "text/plain": [
       "                Product                                              Brand  \\\n",
       "0                   GVR  TRENDY SNEAKERS FROM GVR FOR MEN Sneakers For Men   \n",
       "1              RapidBox                                   Sneakers For Men   \n",
       "2                   SFR  2006 Trenddy Fashion Sporty Casuals Sneakers R...   \n",
       "3                  aadi  Synthetic Leather |Lightweight|Comfort|Summer|...   \n",
       "4                 BIRDE      Combo Pack Of 2 Casual Shoes Sneakers For Men   \n",
       "5                 AMICO                                   Sneakers For Men   \n",
       "6                 BIRDE            Combo Pack of 2 Sports Sneakers For Men   \n",
       "7              RapidBox                                   Sneakers For Men   \n",
       "8                Labbin                                   Sneakers For Men   \n",
       "9                 BIRDE      Combo Pack of 2 Casual Shoes Sneakers For Men   \n",
       "10             RapidBox                                   Sneakers For Men   \n",
       "11               BRUTON  Combo Pack Of 2 Casual Shoes Sneakers For Men ...   \n",
       "12               Kraasa                                 Sneakers For Women   \n",
       "13                BIRDE  Premium Sports Shoes For Men Pack Of 2 Sneaker...   \n",
       "14                BIRDE       Combo Pack of 2 Casual Shoe Sneakers For Men   \n",
       "15                 aadi  Synthetic| Lightweight| Premiun| Comfort| Summ...   \n",
       "16               BRUTON      Combo Pack Of 2 Casual Shoes Sneakers For Men   \n",
       "17               Kraasa                           Classic Sneakers For Men   \n",
       "18                 aadi                                   Sneakers For Men   \n",
       "19             Magnolia  Modern Trendy Sneakers boot Sneakers Sneakers ...   \n",
       "20          New Balance                               237 Sneakers For Men   \n",
       "21             BERSACHE  Trendy Color Changing Casual Shoes| Walking,Gy...   \n",
       "22             Magnolia                                   Sneakers For Men   \n",
       "23             RED TAPE                                   Sneakers For Men   \n",
       "24            EZDEZARIO                                   Sneakers For Men   \n",
       "25               Shozie  Stylish Sneakers Shoes for Women And Girls Sne...   \n",
       "26               BRUTON      Combo Pack Of 2 Casual Shoes Sneakers For Men   \n",
       "27          bacca bucci  JUPITER Men's Retro Color Blocked Light Weight...   \n",
       "28                AMICO                                   Sneakers For Men   \n",
       "29  World Wear Footwear  Latest Exclusive Affordable Collection of Tren...   \n",
       "\n",
       "                   Price  \n",
       "0      ₹629₹2,09970% off  \n",
       "1        ₹571₹99942% off  \n",
       "2        ₹299₹71558% off  \n",
       "3        ₹399₹99960% off  \n",
       "4        ₹499₹99950% off  \n",
       "5      ₹387₹1,07864% off  \n",
       "6      ₹499₹1,49866% off  \n",
       "7        ₹571₹99942% off  \n",
       "8      ₹379₹1,31071% off  \n",
       "9      ₹499₹1,99875% off  \n",
       "10       ₹571₹99942% off  \n",
       "11     ₹499₹2,49980% off  \n",
       "12       ₹299₹99970% off  \n",
       "13     ₹499₹1,99875% off  \n",
       "14       ₹499₹99850% off  \n",
       "15     ₹349₹1,99982% off  \n",
       "16     ₹599₹2,49976% off  \n",
       "17       ₹599₹99940% off  \n",
       "18     ₹349₹1,99982% off  \n",
       "19     ₹399₹1,29969% off  \n",
       "20  ₹8,799₹10,99920% off  \n",
       "21     ₹698₹4,99986% off  \n",
       "22     ₹449₹1,29965% off  \n",
       "23   ₹1,517₹6,89978% off  \n",
       "24       ₹429₹99957% off  \n",
       "25       ₹499₹99950% off  \n",
       "26     ₹499₹2,49980% off  \n",
       "27   ₹1,499₹2,99950% off  \n",
       "28     ₹549₹1,07849% off  \n",
       "29     ₹279₹1,99986% off  "
      ]
     },
     "execution_count": 180,
     "metadata": {},
     "output_type": "execute_result"
    }
   ],
   "source": [
    "df=pd.DataFrame()\n",
    "df['Product']=product_p\n",
    "df['Brand']=brand_b\n",
    "df['Price']= price_P\n",
    "df"
   ]
  },
  {
   "cell_type": "markdown",
   "id": "13f363db",
   "metadata": {},
   "source": [
    "# *****Ques6....Go to webpage https://www.flipkart.com/ Enter “Laptop” in the search field and then click the search icon. Then \n",
    "set CPU Type filter to “Intel Core i7”...\n",
    "after setting the filters scrape first 10 laptops data. You have to scrape 3 attributes for each laptop:\n",
    "1. Title\n",
    "2. Ratings\n",
    "3. Price\n"
   ]
  },
  {
   "cell_type": "code",
   "execution_count": 240,
   "id": "a9876d6f",
   "metadata": {},
   "outputs": [],
   "source": [
    "import selenium\n",
    "import pandas as pd\n",
    "from selenium import webdriver\n",
    "import warnings\n",
    "warnings.filterwarnings('ignore')\n",
    "from selenium.common.exceptions import StaleElementReferenceException, NoSuchElementException\n",
    "from selenium.webdriver.common.by import By\n",
    "import time"
   ]
  },
  {
   "cell_type": "code",
   "execution_count": 241,
   "id": "40277e91",
   "metadata": {},
   "outputs": [],
   "source": [
    "driver= webdriver.Chrome(r\"C:\\Users\\Admin\\Downloads\\chromedriver.exe\")"
   ]
  },
  {
   "cell_type": "code",
   "execution_count": 242,
   "id": "5f70105b",
   "metadata": {},
   "outputs": [],
   "source": [
    "driver.get(\"https://www.flipkart.com/\")"
   ]
  },
  {
   "cell_type": "code",
   "execution_count": 243,
   "id": "9ba15b75",
   "metadata": {
    "scrolled": false
   },
   "outputs": [],
   "source": [
    "A_name= driver.find_element(By.CLASS_NAME,\"_3704LK\")\n",
    "A_name.send_keys('Laptop')"
   ]
  },
  {
   "cell_type": "code",
   "execution_count": 244,
   "id": "7c7ebb45",
   "metadata": {},
   "outputs": [
    {
     "data": {
      "text/plain": [
       "[<selenium.webdriver.remote.webelement.WebElement (session=\"14006b659646ad0136acfa409120f8a4\", element=\"4ce58fb2-b35f-437f-98e7-ca16a2ee3c6c\")>]"
      ]
     },
     "execution_count": 244,
     "metadata": {},
     "output_type": "execute_result"
    }
   ],
   "source": [
    "search_btn=driver.find_elements(By.XPATH,'//button[@class=\"L0Z3Pu\"]')\n",
    "search_btn"
   ]
  },
  {
   "cell_type": "code",
   "execution_count": 245,
   "id": "c7f6a5d6",
   "metadata": {},
   "outputs": [],
   "source": [
    "search_btn=driver.find_element(By.CLASS_NAME,\"L0Z3Pu\")\n",
    "search_btn.click()"
   ]
  },
  {
   "cell_type": "code",
   "execution_count": 246,
   "id": "c091a8d7",
   "metadata": {},
   "outputs": [],
   "source": [
    "product_p=[]\n",
    "rating_r=[]\n",
    "price_P=[]"
   ]
  },
  {
   "cell_type": "code",
   "execution_count": 247,
   "id": "ff6e28fe",
   "metadata": {},
   "outputs": [],
   "source": [
    "p_tags=driver.find_elements(By.XPATH,'//div[@class=\"_4rR01T\"]')\n",
    "for i in p_tags[0:10]:\n",
    "    p=i.text\n",
    "    product_p.append(p)"
   ]
  },
  {
   "cell_type": "code",
   "execution_count": 248,
   "id": "b42734f9",
   "metadata": {},
   "outputs": [],
   "source": [
    "r_tags=driver.find_elements(By.XPATH,'//div[@class=\"_3LWZlK\"]')\n",
    "for i in r_tags[0:10]:\n",
    "    r=i.text\n",
    "    rating_r.append(r)"
   ]
  },
  {
   "cell_type": "code",
   "execution_count": 249,
   "id": "a318650b",
   "metadata": {},
   "outputs": [],
   "source": [
    "P_tags=driver.find_elements(By.XPATH,'//div[@class=\"_25b18c\"]')\n",
    "for i in P_tags[0:10]:\n",
    "    P=i.text\n",
    "    price_P.append(P)"
   ]
  },
  {
   "cell_type": "code",
   "execution_count": 250,
   "id": "2df03a1b",
   "metadata": {},
   "outputs": [],
   "source": [
    "import pandas as pd"
   ]
  },
  {
   "cell_type": "code",
   "execution_count": 251,
   "id": "883aa327",
   "metadata": {},
   "outputs": [
    {
     "data": {
      "text/html": [
       "<div>\n",
       "<style scoped>\n",
       "    .dataframe tbody tr th:only-of-type {\n",
       "        vertical-align: middle;\n",
       "    }\n",
       "\n",
       "    .dataframe tbody tr th {\n",
       "        vertical-align: top;\n",
       "    }\n",
       "\n",
       "    .dataframe thead th {\n",
       "        text-align: right;\n",
       "    }\n",
       "</style>\n",
       "<table border=\"1\" class=\"dataframe\">\n",
       "  <thead>\n",
       "    <tr style=\"text-align: right;\">\n",
       "      <th></th>\n",
       "      <th>Product</th>\n",
       "      <th>Rating</th>\n",
       "      <th>Price</th>\n",
       "    </tr>\n",
       "  </thead>\n",
       "  <tbody>\n",
       "    <tr>\n",
       "      <th>0</th>\n",
       "      <td>Lenovo V15 G2 Core i3 11th Gen - (8 GB/1 TB HD...</td>\n",
       "      <td>4.3</td>\n",
       "      <td>₹40,490\\n₹59,39031% off</td>\n",
       "    </tr>\n",
       "    <tr>\n",
       "      <th>1</th>\n",
       "      <td>acer Aspire 5 Ryzen 7 Octa Core 5700U - (8 GB/...</td>\n",
       "      <td>5</td>\n",
       "      <td>₹55,990\\n₹79,99930% off</td>\n",
       "    </tr>\n",
       "    <tr>\n",
       "      <th>2</th>\n",
       "      <td>Lenovo Intel Celeron Dual Core - (8 GB/256 GB ...</td>\n",
       "      <td>4.1</td>\n",
       "      <td>₹29,490\\n₹40,49027% off</td>\n",
       "    </tr>\n",
       "    <tr>\n",
       "      <th>3</th>\n",
       "      <td>ASUS TUF Gaming F15 Core i5 10th Gen - (8 GB/5...</td>\n",
       "      <td>4.4</td>\n",
       "      <td>₹51,990\\n₹70,99026% off</td>\n",
       "    </tr>\n",
       "    <tr>\n",
       "      <th>4</th>\n",
       "      <td>ASUS VivoBook 14 (2021) Celeron Dual Core - (4...</td>\n",
       "      <td>4.1</td>\n",
       "      <td>₹21,990\\n₹33,99035% off</td>\n",
       "    </tr>\n",
       "    <tr>\n",
       "      <th>5</th>\n",
       "      <td>APPLE 2020 Macbook Air M1 - (8 GB/256 GB SSD/M...</td>\n",
       "      <td>4.7</td>\n",
       "      <td>₹84,990\\n₹99,90014% off</td>\n",
       "    </tr>\n",
       "    <tr>\n",
       "      <th>6</th>\n",
       "      <td>MSI Bravo 15 Ryzen 5 Hexa Core AMD R5-5600H - ...</td>\n",
       "      <td>4.4</td>\n",
       "      <td>₹49,990\\n₹72,99031% off</td>\n",
       "    </tr>\n",
       "    <tr>\n",
       "      <th>7</th>\n",
       "      <td>Infinix X1 Slim Series Core i5 10th Gen - (16 ...</td>\n",
       "      <td>4.1</td>\n",
       "      <td>₹38,990\\n₹64,99940% off</td>\n",
       "    </tr>\n",
       "    <tr>\n",
       "      <th>8</th>\n",
       "      <td>Lenovo IdeaPad Slim 3 Intel Core i3 11th Gen -...</td>\n",
       "      <td>4.3</td>\n",
       "      <td>₹33,490\\n₹59,39043% off</td>\n",
       "    </tr>\n",
       "    <tr>\n",
       "      <th>9</th>\n",
       "      <td>Lenovo IdeaPad Slim 3 Intel Core i3 11th Gen -...</td>\n",
       "      <td>4.3</td>\n",
       "      <td>₹36,158\\n₹68,79047% off</td>\n",
       "    </tr>\n",
       "  </tbody>\n",
       "</table>\n",
       "</div>"
      ],
      "text/plain": [
       "                                             Product Rating  \\\n",
       "0  Lenovo V15 G2 Core i3 11th Gen - (8 GB/1 TB HD...    4.3   \n",
       "1  acer Aspire 5 Ryzen 7 Octa Core 5700U - (8 GB/...      5   \n",
       "2  Lenovo Intel Celeron Dual Core - (8 GB/256 GB ...    4.1   \n",
       "3  ASUS TUF Gaming F15 Core i5 10th Gen - (8 GB/5...    4.4   \n",
       "4  ASUS VivoBook 14 (2021) Celeron Dual Core - (4...    4.1   \n",
       "5  APPLE 2020 Macbook Air M1 - (8 GB/256 GB SSD/M...    4.7   \n",
       "6  MSI Bravo 15 Ryzen 5 Hexa Core AMD R5-5600H - ...    4.4   \n",
       "7  Infinix X1 Slim Series Core i5 10th Gen - (16 ...    4.1   \n",
       "8  Lenovo IdeaPad Slim 3 Intel Core i3 11th Gen -...    4.3   \n",
       "9  Lenovo IdeaPad Slim 3 Intel Core i3 11th Gen -...    4.3   \n",
       "\n",
       "                     Price  \n",
       "0  ₹40,490\\n₹59,39031% off  \n",
       "1  ₹55,990\\n₹79,99930% off  \n",
       "2  ₹29,490\\n₹40,49027% off  \n",
       "3  ₹51,990\\n₹70,99026% off  \n",
       "4  ₹21,990\\n₹33,99035% off  \n",
       "5  ₹84,990\\n₹99,90014% off  \n",
       "6  ₹49,990\\n₹72,99031% off  \n",
       "7  ₹38,990\\n₹64,99940% off  \n",
       "8  ₹33,490\\n₹59,39043% off  \n",
       "9  ₹36,158\\n₹68,79047% off  "
      ]
     },
     "execution_count": 251,
     "metadata": {},
     "output_type": "execute_result"
    }
   ],
   "source": [
    "df=pd.DataFrame()\n",
    "df['Product']=product_p\n",
    "df['Rating']=rating_r\n",
    "df['Price']= price_P\n",
    "df"
   ]
  },
  {
   "cell_type": "markdown",
   "id": "93483e5a",
   "metadata": {},
   "source": [
    "# *****QUES7...Write a python program to scrape data for Top 1000 Quotes of All Time.\n",
    "The above task will be done in following steps:\n",
    "1. First get the webpagehttps://www.azquotes.com/\n",
    "2. Click on TopQuoteS\n",
    "3. Than scrap a) Quote b) Author c) Type Of Quotes"
   ]
  },
  {
   "cell_type": "code",
   "execution_count": 1,
   "id": "2cc25982",
   "metadata": {},
   "outputs": [],
   "source": [
    "import selenium\n",
    "import pandas as pd\n",
    "from selenium import webdriver\n",
    "import warnings\n",
    "warnings.filterwarnings('ignore')\n",
    "from selenium.common.exceptions import StaleElementReferenceException, NoSuchElementException\n",
    "from selenium.webdriver.common.by import By\n",
    "import time"
   ]
  },
  {
   "cell_type": "code",
   "execution_count": 2,
   "id": "499263c8",
   "metadata": {},
   "outputs": [],
   "source": [
    "driver= webdriver.Chrome(r\"C:\\Users\\Admin\\Downloads\\chromedriver.exe\")"
   ]
  },
  {
   "cell_type": "code",
   "execution_count": 3,
   "id": "4b0ce4ec",
   "metadata": {},
   "outputs": [],
   "source": [
    "driver.get(\"https://www.azquotes.com/\")"
   ]
  },
  {
   "cell_type": "code",
   "execution_count": 4,
   "id": "d92f04e0",
   "metadata": {
    "scrolled": true
   },
   "outputs": [
    {
     "data": {
      "text/plain": [
       "<selenium.webdriver.remote.webelement.WebElement (session=\"a7f1ca55c6b2fa3c535b9ff96227fd1e\", element=\"2b2e22ea-cf87-4716-b4e3-d86c17055445\")>"
      ]
     },
     "execution_count": 4,
     "metadata": {},
     "output_type": "execute_result"
    }
   ],
   "source": [
    "A_name= driver.find_element(By.CLASS_NAME,\"mainmenu\")\n",
    "A_name"
   ]
  },
  {
   "cell_type": "code",
   "execution_count": 5,
   "id": "2426f9c0",
   "metadata": {
    "scrolled": true
   },
   "outputs": [
    {
     "ename": "SyntaxError",
     "evalue": "EOL while scanning string literal (2245130020.py, line 1)",
     "output_type": "error",
     "traceback": [
      "\u001b[1;36m  Input \u001b[1;32mIn [5]\u001b[1;36m\u001b[0m\n\u001b[1;33m    author_c=driver.find_elements(By.XPATH,'//a[@ref=\"quotes/authors.html\"]\u001b[0m\n\u001b[1;37m                                                                           ^\u001b[0m\n\u001b[1;31mSyntaxError\u001b[0m\u001b[1;31m:\u001b[0m EOL while scanning string literal\n"
     ]
    }
   ],
   "source": [
    "author_c=driver.find_elements(By.XPATH,'//a[@ref=\"quotes/authors.html\"]\n",
    "author_c.click()"
   ]
  },
  {
   "cell_type": "code",
   "execution_count": 28,
   "id": "dba90ae0",
   "metadata": {},
   "outputs": [],
   "source": [
    "quote_q=[]\n",
    "author_a=[]"
   ]
  },
  {
   "cell_type": "code",
   "execution_count": 6,
   "id": "7288607d",
   "metadata": {},
   "outputs": [
    {
     "ename": "NameError",
     "evalue": "name 'quote_q' is not defined",
     "output_type": "error",
     "traceback": [
      "\u001b[1;31m---------------------------------------------------------------------------\u001b[0m",
      "\u001b[1;31mNameError\u001b[0m                                 Traceback (most recent call last)",
      "Input \u001b[1;32mIn [6]\u001b[0m, in \u001b[0;36m<cell line: 2>\u001b[1;34m()\u001b[0m\n\u001b[0;32m      2\u001b[0m \u001b[38;5;28;01mfor\u001b[39;00m i \u001b[38;5;129;01min\u001b[39;00m q_tags[\u001b[38;5;241m0\u001b[39m:\u001b[38;5;241m10\u001b[39m]:\n\u001b[0;32m      3\u001b[0m     q\u001b[38;5;241m=\u001b[39mi\u001b[38;5;241m.\u001b[39mtext\n\u001b[1;32m----> 4\u001b[0m     \u001b[43mquote_q\u001b[49m\u001b[38;5;241m.\u001b[39mappend(q)\n",
      "\u001b[1;31mNameError\u001b[0m: name 'quote_q' is not defined"
     ]
    }
   ],
   "source": [
    "q_tags=driver.find_elements(By.XPATH,'//div[@class=\"title\"]')\n",
    "for i in q_tags[0:10]:\n",
    "    q=i.text\n",
    "    quote_q.append(q)"
   ]
  },
  {
   "cell_type": "code",
   "execution_count": null,
   "id": "33ce446e",
   "metadata": {},
   "outputs": [],
   "source": [
    "a_tags=driver.find_elements(By.XPATH,'//div[@class=\"q_user\"]')\n",
    "for i in a_tags[0:10]:\n",
    "    a=i.text\n",
    "    author.a.append(a)"
   ]
  },
  {
   "cell_type": "code",
   "execution_count": null,
   "id": "d8d94958",
   "metadata": {},
   "outputs": [],
   "source": []
  },
  {
   "cell_type": "code",
   "execution_count": null,
   "id": "7e6d7d74",
   "metadata": {},
   "outputs": [],
   "source": []
  }
 ],
 "metadata": {
  "kernelspec": {
   "display_name": "Python 3 (ipykernel)",
   "language": "python",
   "name": "python3"
  },
  "language_info": {
   "codemirror_mode": {
    "name": "ipython",
    "version": 3
   },
   "file_extension": ".py",
   "mimetype": "text/x-python",
   "name": "python",
   "nbconvert_exporter": "python",
   "pygments_lexer": "ipython3",
   "version": "3.9.12"
  }
 },
 "nbformat": 4,
 "nbformat_minor": 5
}
